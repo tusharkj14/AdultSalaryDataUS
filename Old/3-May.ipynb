{
 "cells": [
  {
   "cell_type": "code",
   "execution_count": 1,
   "id": "9ed6ee45",
   "metadata": {},
   "outputs": [],
   "source": [
    "import numpy as np\n",
    "import pandas as pd\n",
    "import matplotlib.pyplot as plt\n",
    "import seaborn as sns\n",
    "%matplotlib inline\n",
    "sns.set_style('darkgrid')"
   ]
  },
  {
   "cell_type": "code",
   "execution_count": 2,
   "id": "24f75b04",
   "metadata": {},
   "outputs": [],
   "source": [
    "name_cols = []\n",
    "with open('adult.names') as file:\n",
    "    for f in file.readlines():\n",
    "        if not str(f).startswith('|') and ':' in str(f):\n",
    "            name_cols.append(str(f).split(':')[0])\n",
    "name_cols.append('Salary')"
   ]
  },
  {
   "cell_type": "code",
   "execution_count": 3,
   "id": "16f26538",
   "metadata": {},
   "outputs": [],
   "source": [
    "df = pd.read_csv('adult.data', names=name_cols)"
   ]
  },
  {
   "cell_type": "code",
   "execution_count": 4,
   "id": "871e3388",
   "metadata": {},
   "outputs": [
    {
     "data": {
      "text/html": [
       "<div>\n",
       "<style scoped>\n",
       "    .dataframe tbody tr th:only-of-type {\n",
       "        vertical-align: middle;\n",
       "    }\n",
       "\n",
       "    .dataframe tbody tr th {\n",
       "        vertical-align: top;\n",
       "    }\n",
       "\n",
       "    .dataframe thead th {\n",
       "        text-align: right;\n",
       "    }\n",
       "</style>\n",
       "<table border=\"1\" class=\"dataframe\">\n",
       "  <thead>\n",
       "    <tr style=\"text-align: right;\">\n",
       "      <th></th>\n",
       "      <th>age</th>\n",
       "      <th>workclass</th>\n",
       "      <th>fnlwgt</th>\n",
       "      <th>education</th>\n",
       "      <th>education-num</th>\n",
       "      <th>marital-status</th>\n",
       "      <th>occupation</th>\n",
       "      <th>relationship</th>\n",
       "      <th>race</th>\n",
       "      <th>sex</th>\n",
       "      <th>capital-gain</th>\n",
       "      <th>capital-loss</th>\n",
       "      <th>hours-per-week</th>\n",
       "      <th>native-country</th>\n",
       "      <th>Salary</th>\n",
       "    </tr>\n",
       "  </thead>\n",
       "  <tbody>\n",
       "    <tr>\n",
       "      <th>0</th>\n",
       "      <td>39</td>\n",
       "      <td>State-gov</td>\n",
       "      <td>77516</td>\n",
       "      <td>Bachelors</td>\n",
       "      <td>13</td>\n",
       "      <td>Never-married</td>\n",
       "      <td>Adm-clerical</td>\n",
       "      <td>Not-in-family</td>\n",
       "      <td>White</td>\n",
       "      <td>Male</td>\n",
       "      <td>2174</td>\n",
       "      <td>0</td>\n",
       "      <td>40</td>\n",
       "      <td>United-States</td>\n",
       "      <td>&lt;=50K</td>\n",
       "    </tr>\n",
       "    <tr>\n",
       "      <th>1</th>\n",
       "      <td>50</td>\n",
       "      <td>Self-emp-not-inc</td>\n",
       "      <td>83311</td>\n",
       "      <td>Bachelors</td>\n",
       "      <td>13</td>\n",
       "      <td>Married-civ-spouse</td>\n",
       "      <td>Exec-managerial</td>\n",
       "      <td>Husband</td>\n",
       "      <td>White</td>\n",
       "      <td>Male</td>\n",
       "      <td>0</td>\n",
       "      <td>0</td>\n",
       "      <td>13</td>\n",
       "      <td>United-States</td>\n",
       "      <td>&lt;=50K</td>\n",
       "    </tr>\n",
       "    <tr>\n",
       "      <th>2</th>\n",
       "      <td>38</td>\n",
       "      <td>Private</td>\n",
       "      <td>215646</td>\n",
       "      <td>HS-grad</td>\n",
       "      <td>9</td>\n",
       "      <td>Divorced</td>\n",
       "      <td>Handlers-cleaners</td>\n",
       "      <td>Not-in-family</td>\n",
       "      <td>White</td>\n",
       "      <td>Male</td>\n",
       "      <td>0</td>\n",
       "      <td>0</td>\n",
       "      <td>40</td>\n",
       "      <td>United-States</td>\n",
       "      <td>&lt;=50K</td>\n",
       "    </tr>\n",
       "    <tr>\n",
       "      <th>3</th>\n",
       "      <td>53</td>\n",
       "      <td>Private</td>\n",
       "      <td>234721</td>\n",
       "      <td>11th</td>\n",
       "      <td>7</td>\n",
       "      <td>Married-civ-spouse</td>\n",
       "      <td>Handlers-cleaners</td>\n",
       "      <td>Husband</td>\n",
       "      <td>Black</td>\n",
       "      <td>Male</td>\n",
       "      <td>0</td>\n",
       "      <td>0</td>\n",
       "      <td>40</td>\n",
       "      <td>United-States</td>\n",
       "      <td>&lt;=50K</td>\n",
       "    </tr>\n",
       "    <tr>\n",
       "      <th>4</th>\n",
       "      <td>28</td>\n",
       "      <td>Private</td>\n",
       "      <td>338409</td>\n",
       "      <td>Bachelors</td>\n",
       "      <td>13</td>\n",
       "      <td>Married-civ-spouse</td>\n",
       "      <td>Prof-specialty</td>\n",
       "      <td>Wife</td>\n",
       "      <td>Black</td>\n",
       "      <td>Female</td>\n",
       "      <td>0</td>\n",
       "      <td>0</td>\n",
       "      <td>40</td>\n",
       "      <td>Cuba</td>\n",
       "      <td>&lt;=50K</td>\n",
       "    </tr>\n",
       "  </tbody>\n",
       "</table>\n",
       "</div>"
      ],
      "text/plain": [
       "   age          workclass  fnlwgt   education  education-num  \\\n",
       "0   39          State-gov   77516   Bachelors             13   \n",
       "1   50   Self-emp-not-inc   83311   Bachelors             13   \n",
       "2   38            Private  215646     HS-grad              9   \n",
       "3   53            Private  234721        11th              7   \n",
       "4   28            Private  338409   Bachelors             13   \n",
       "\n",
       "        marital-status          occupation    relationship    race      sex  \\\n",
       "0        Never-married        Adm-clerical   Not-in-family   White     Male   \n",
       "1   Married-civ-spouse     Exec-managerial         Husband   White     Male   \n",
       "2             Divorced   Handlers-cleaners   Not-in-family   White     Male   \n",
       "3   Married-civ-spouse   Handlers-cleaners         Husband   Black     Male   \n",
       "4   Married-civ-spouse      Prof-specialty            Wife   Black   Female   \n",
       "\n",
       "   capital-gain  capital-loss  hours-per-week  native-country  Salary  \n",
       "0          2174             0              40   United-States   <=50K  \n",
       "1             0             0              13   United-States   <=50K  \n",
       "2             0             0              40   United-States   <=50K  \n",
       "3             0             0              40   United-States   <=50K  \n",
       "4             0             0              40            Cuba   <=50K  "
      ]
     },
     "execution_count": 4,
     "metadata": {},
     "output_type": "execute_result"
    }
   ],
   "source": [
    "df.head()"
   ]
  },
  {
   "cell_type": "code",
   "execution_count": 5,
   "id": "6dfa3910",
   "metadata": {},
   "outputs": [
    {
     "data": {
      "text/html": [
       "<div>\n",
       "<style scoped>\n",
       "    .dataframe tbody tr th:only-of-type {\n",
       "        vertical-align: middle;\n",
       "    }\n",
       "\n",
       "    .dataframe tbody tr th {\n",
       "        vertical-align: top;\n",
       "    }\n",
       "\n",
       "    .dataframe thead th {\n",
       "        text-align: right;\n",
       "    }\n",
       "</style>\n",
       "<table border=\"1\" class=\"dataframe\">\n",
       "  <thead>\n",
       "    <tr style=\"text-align: right;\">\n",
       "      <th></th>\n",
       "      <th>age</th>\n",
       "      <th>workclass</th>\n",
       "      <th>fnlwgt</th>\n",
       "      <th>education</th>\n",
       "      <th>education-num</th>\n",
       "      <th>marital-status</th>\n",
       "      <th>occupation</th>\n",
       "      <th>relationship</th>\n",
       "      <th>race</th>\n",
       "      <th>sex</th>\n",
       "      <th>capital-gain</th>\n",
       "      <th>capital-loss</th>\n",
       "      <th>hours-per-week</th>\n",
       "      <th>native-country</th>\n",
       "      <th>Salary</th>\n",
       "    </tr>\n",
       "  </thead>\n",
       "  <tbody>\n",
       "    <tr>\n",
       "      <th>32556</th>\n",
       "      <td>27</td>\n",
       "      <td>Private</td>\n",
       "      <td>257302</td>\n",
       "      <td>Assoc-acdm</td>\n",
       "      <td>12</td>\n",
       "      <td>Married-civ-spouse</td>\n",
       "      <td>Tech-support</td>\n",
       "      <td>Wife</td>\n",
       "      <td>White</td>\n",
       "      <td>Female</td>\n",
       "      <td>0</td>\n",
       "      <td>0</td>\n",
       "      <td>38</td>\n",
       "      <td>United-States</td>\n",
       "      <td>&lt;=50K</td>\n",
       "    </tr>\n",
       "    <tr>\n",
       "      <th>32557</th>\n",
       "      <td>40</td>\n",
       "      <td>Private</td>\n",
       "      <td>154374</td>\n",
       "      <td>HS-grad</td>\n",
       "      <td>9</td>\n",
       "      <td>Married-civ-spouse</td>\n",
       "      <td>Machine-op-inspct</td>\n",
       "      <td>Husband</td>\n",
       "      <td>White</td>\n",
       "      <td>Male</td>\n",
       "      <td>0</td>\n",
       "      <td>0</td>\n",
       "      <td>40</td>\n",
       "      <td>United-States</td>\n",
       "      <td>&gt;50K</td>\n",
       "    </tr>\n",
       "    <tr>\n",
       "      <th>32558</th>\n",
       "      <td>58</td>\n",
       "      <td>Private</td>\n",
       "      <td>151910</td>\n",
       "      <td>HS-grad</td>\n",
       "      <td>9</td>\n",
       "      <td>Widowed</td>\n",
       "      <td>Adm-clerical</td>\n",
       "      <td>Unmarried</td>\n",
       "      <td>White</td>\n",
       "      <td>Female</td>\n",
       "      <td>0</td>\n",
       "      <td>0</td>\n",
       "      <td>40</td>\n",
       "      <td>United-States</td>\n",
       "      <td>&lt;=50K</td>\n",
       "    </tr>\n",
       "    <tr>\n",
       "      <th>32559</th>\n",
       "      <td>22</td>\n",
       "      <td>Private</td>\n",
       "      <td>201490</td>\n",
       "      <td>HS-grad</td>\n",
       "      <td>9</td>\n",
       "      <td>Never-married</td>\n",
       "      <td>Adm-clerical</td>\n",
       "      <td>Own-child</td>\n",
       "      <td>White</td>\n",
       "      <td>Male</td>\n",
       "      <td>0</td>\n",
       "      <td>0</td>\n",
       "      <td>20</td>\n",
       "      <td>United-States</td>\n",
       "      <td>&lt;=50K</td>\n",
       "    </tr>\n",
       "    <tr>\n",
       "      <th>32560</th>\n",
       "      <td>52</td>\n",
       "      <td>Self-emp-inc</td>\n",
       "      <td>287927</td>\n",
       "      <td>HS-grad</td>\n",
       "      <td>9</td>\n",
       "      <td>Married-civ-spouse</td>\n",
       "      <td>Exec-managerial</td>\n",
       "      <td>Wife</td>\n",
       "      <td>White</td>\n",
       "      <td>Female</td>\n",
       "      <td>15024</td>\n",
       "      <td>0</td>\n",
       "      <td>40</td>\n",
       "      <td>United-States</td>\n",
       "      <td>&gt;50K</td>\n",
       "    </tr>\n",
       "  </tbody>\n",
       "</table>\n",
       "</div>"
      ],
      "text/plain": [
       "       age      workclass  fnlwgt    education  education-num  \\\n",
       "32556   27        Private  257302   Assoc-acdm             12   \n",
       "32557   40        Private  154374      HS-grad              9   \n",
       "32558   58        Private  151910      HS-grad              9   \n",
       "32559   22        Private  201490      HS-grad              9   \n",
       "32560   52   Self-emp-inc  287927      HS-grad              9   \n",
       "\n",
       "            marital-status          occupation relationship    race      sex  \\\n",
       "32556   Married-civ-spouse        Tech-support         Wife   White   Female   \n",
       "32557   Married-civ-spouse   Machine-op-inspct      Husband   White     Male   \n",
       "32558              Widowed        Adm-clerical    Unmarried   White   Female   \n",
       "32559        Never-married        Adm-clerical    Own-child   White     Male   \n",
       "32560   Married-civ-spouse     Exec-managerial         Wife   White   Female   \n",
       "\n",
       "       capital-gain  capital-loss  hours-per-week  native-country  Salary  \n",
       "32556             0             0              38   United-States   <=50K  \n",
       "32557             0             0              40   United-States    >50K  \n",
       "32558             0             0              40   United-States   <=50K  \n",
       "32559             0             0              20   United-States   <=50K  \n",
       "32560         15024             0              40   United-States    >50K  "
      ]
     },
     "execution_count": 5,
     "metadata": {},
     "output_type": "execute_result"
    }
   ],
   "source": [
    "df.tail()"
   ]
  },
  {
   "cell_type": "code",
   "execution_count": 5,
   "id": "b32b977e",
   "metadata": {},
   "outputs": [],
   "source": [
    "object_cols = []\n",
    "for i, enum in enumerate(df.dtypes):\n",
    "    if enum=='object':\n",
    "        object_cols.append(i)\n",
    "\n",
    "for i in range(len(object_cols)):\n",
    "    object_cols[i] = df.dtypes.index[object_cols[i]]\n",
    "    \n",
    "def correct_names(name):\n",
    "    if name.startswith(\" \") or name.endswith(\" \"):\n",
    "        return name.strip(\" \")\n",
    "    else:\n",
    "        return name\n",
    "    \n",
    "for i in object_cols:\n",
    "    df[i] = df[i].apply(correct_names)"
   ]
  },
  {
   "cell_type": "code",
   "execution_count": 7,
   "id": "b6a5b2b7",
   "metadata": {},
   "outputs": [
    {
     "data": {
      "text/plain": [
       "['workclass',\n",
       " 'education',\n",
       " 'marital-status',\n",
       " 'occupation',\n",
       " 'relationship',\n",
       " 'race',\n",
       " 'sex',\n",
       " 'native-country',\n",
       " 'Salary']"
      ]
     },
     "execution_count": 7,
     "metadata": {},
     "output_type": "execute_result"
    }
   ],
   "source": [
    "object_cols"
   ]
  },
  {
   "cell_type": "code",
   "execution_count": 6,
   "id": "4dda3022",
   "metadata": {},
   "outputs": [],
   "source": [
    "native_country_new = df[df['Salary']==\">50K\"]['native-country'].value_counts().index[:10]\n",
    "def get_country(name):\n",
    "    if name not in native_country_new or name=='?':\n",
    "        return \"Others\"\n",
    "    else:\n",
    "        return name\n",
    "\n",
    "df['native-country'] = df['native-country'].apply(get_country)"
   ]
  },
  {
   "cell_type": "code",
   "execution_count": 7,
   "id": "0314442e",
   "metadata": {},
   "outputs": [],
   "source": [
    "def change_edu_level(name):\n",
    "    if name==\"HS-grad\":\n",
    "        return \"High School\"\n",
    "    elif name in [\"Bachelors\",\"Some-college\"]:\n",
    "        return \"Bachelors\"\n",
    "    elif name in [\"11th\", \"9th\", \"7th-8th\", \"5th-6th\", \"10th\", \"1st-4th\", \"12th\", \"Preschool\", \"compulsory\"]:\n",
    "        return \"Compulsory\"\n",
    "    elif name in [\"Assoc-acdm\", \"Assoc-voc\"]:\n",
    "        return \"Associate\"\n",
    "    else:\n",
    "        return name\n",
    "\n",
    "df['education'] = df['education'].apply(change_edu_level)"
   ]
  },
  {
   "cell_type": "code",
   "execution_count": 10,
   "id": "37bf00e6",
   "metadata": {},
   "outputs": [
    {
     "data": {
      "text/plain": [
       "Private             22696\n",
       "Self-emp-not-inc     2541\n",
       "Local-gov            2093\n",
       "?                    1836\n",
       "State-gov            1298\n",
       "Self-emp-inc         1116\n",
       "Federal-gov           960\n",
       "Without-pay            14\n",
       "Never-worked            7\n",
       "Name: workclass, dtype: int64"
      ]
     },
     "execution_count": 10,
     "metadata": {},
     "output_type": "execute_result"
    }
   ],
   "source": [
    "df['workclass'].value_counts()"
   ]
  },
  {
   "cell_type": "code",
   "execution_count": 11,
   "id": "d09d6a38",
   "metadata": {},
   "outputs": [
    {
     "data": {
      "text/plain": [
       "Married-civ-spouse       14976\n",
       "Never-married            10683\n",
       "Divorced                  4443\n",
       "Separated                 1025\n",
       "Widowed                    993\n",
       "Married-spouse-absent      418\n",
       "Married-AF-spouse           23\n",
       "Name: marital-status, dtype: int64"
      ]
     },
     "execution_count": 11,
     "metadata": {},
     "output_type": "execute_result"
    }
   ],
   "source": [
    "df['marital-status'].value_counts()"
   ]
  },
  {
   "cell_type": "code",
   "execution_count": 12,
   "id": "1eb0076b",
   "metadata": {},
   "outputs": [
    {
     "data": {
      "text/plain": [
       "Husband           13193\n",
       "Not-in-family      8305\n",
       "Own-child          5068\n",
       "Unmarried          3446\n",
       "Wife               1568\n",
       "Other-relative      981\n",
       "Name: relationship, dtype: int64"
      ]
     },
     "execution_count": 12,
     "metadata": {},
     "output_type": "execute_result"
    }
   ],
   "source": [
    "df['relationship'].value_counts()"
   ]
  },
  {
   "cell_type": "code",
   "execution_count": 13,
   "id": "f645f753",
   "metadata": {},
   "outputs": [
    {
     "data": {
      "text/plain": [
       "Not-in-family     4706\n",
       "Own-child         4485\n",
       "Unmarried          881\n",
       "Other-relative     611\n",
       "Name: relationship, dtype: int64"
      ]
     },
     "execution_count": 13,
     "metadata": {},
     "output_type": "execute_result"
    }
   ],
   "source": [
    "df[df['marital-status']=='Never-married']['relationship'].value_counts()"
   ]
  },
  {
   "cell_type": "code",
   "execution_count": 8,
   "id": "07740c6a",
   "metadata": {},
   "outputs": [],
   "source": [
    "def get_mar(name):\n",
    "    if name in ['Married-civ-spouse', 'Married-spouse-absent', 'Married-AF-spouse']:\n",
    "        return \"Married\"\n",
    "    elif name in ['Divorced', 'Separated']:\n",
    "        return \"Divorced\"\n",
    "    else:\n",
    "        return name\n",
    "\n",
    "df['marital-status'] = df['marital-status'].apply(get_mar)"
   ]
  },
  {
   "cell_type": "code",
   "execution_count": 15,
   "id": "8977d92b",
   "metadata": {},
   "outputs": [
    {
     "name": "stdout",
     "output_type": "stream",
     "text": [
      "workclass\n",
      "occupation\n"
     ]
    }
   ],
   "source": [
    "for i in object_cols:\n",
    "    if '?' in df[i].value_counts():\n",
    "        print(i)"
   ]
  },
  {
   "cell_type": "code",
   "execution_count": 9,
   "id": "7107c0b4",
   "metadata": {},
   "outputs": [],
   "source": [
    "def remove_qm(name):\n",
    "    if name == '?':\n",
    "        return 'Other-service'\n",
    "    else:\n",
    "        return name\n",
    "    \n",
    "df['workclass'] = df['workclass'].apply(remove_qm)\n",
    "df['occupation'] = df['occupation'].apply(remove_qm)"
   ]
  },
  {
   "cell_type": "code",
   "execution_count": 17,
   "id": "064caec6",
   "metadata": {},
   "outputs": [
    {
     "data": {
      "text/plain": [
       "Private             22696\n",
       "Self-emp-not-inc     2541\n",
       "Local-gov            2093\n",
       "Other-service        1836\n",
       "State-gov            1298\n",
       "Self-emp-inc         1116\n",
       "Federal-gov           960\n",
       "Without-pay            14\n",
       "Never-worked            7\n",
       "Name: workclass, dtype: int64"
      ]
     },
     "execution_count": 17,
     "metadata": {},
     "output_type": "execute_result"
    }
   ],
   "source": [
    "df['workclass'].value_counts()"
   ]
  },
  {
   "cell_type": "code",
   "execution_count": 10,
   "id": "46935502",
   "metadata": {},
   "outputs": [],
   "source": [
    "def get_work(name):\n",
    "    if name in ['Local-gov', 'State-gov', 'Federal-gov']:\n",
    "        return 'Government'\n",
    "    elif name in ['Without-pay', 'Never-worked']:\n",
    "        return 'Other-service'\n",
    "    else:\n",
    "        return name\n",
    "\n",
    "df['workclass'] = df['workclass'].apply(get_work)"
   ]
  },
  {
   "cell_type": "code",
   "execution_count": 20,
   "id": "73210dc5",
   "metadata": {},
   "outputs": [
    {
     "data": {
      "text/plain": [
       "Other-service        5138\n",
       "Prof-specialty       4140\n",
       "Craft-repair         4099\n",
       "Exec-managerial      4066\n",
       "Adm-clerical         3770\n",
       "Sales                3650\n",
       "Machine-op-inspct    2002\n",
       "Transport-moving     1597\n",
       "Handlers-cleaners    1370\n",
       "Farming-fishing       994\n",
       "Tech-support          928\n",
       "Protective-serv       649\n",
       "Priv-house-serv       149\n",
       "Armed-Forces            9\n",
       "Name: occupation, dtype: int64"
      ]
     },
     "execution_count": 20,
     "metadata": {},
     "output_type": "execute_result"
    }
   ],
   "source": [
    "df['occupation'].value_counts()"
   ]
  },
  {
   "cell_type": "code",
   "execution_count": null,
   "id": "a8a9a162",
   "metadata": {},
   "outputs": [],
   "source": []
  },
  {
   "cell_type": "code",
   "execution_count": 11,
   "id": "8a5b565b",
   "metadata": {},
   "outputs": [],
   "source": [
    "workclass_ = pd.get_dummies(df['workclass'])\n",
    "marital_ = pd.get_dummies(df['marital-status'])\n",
    "occupation_ = pd.get_dummies(df['occupation'])\n",
    "relationship_ = pd.get_dummies(df['relationship'])\n",
    "race_ = pd.get_dummies(df['race'])\n",
    "sex_ = pd.get_dummies(df['sex'])\n",
    "country_ = pd.get_dummies(df['native-country'])\n",
    "edn_ = pd.get_dummies(df['education'])"
   ]
  },
  {
   "cell_type": "code",
   "execution_count": 12,
   "id": "2edd7a1d",
   "metadata": {},
   "outputs": [],
   "source": [
    "X = pd.concat([df[['age','capital-gain', 'hours-per-week']], workclass_ , marital_, occupation_, relationship_, race_, sex_, edn_, country_ ], axis=1)\n",
    "y = df['Salary']"
   ]
  },
  {
   "cell_type": "code",
   "execution_count": 23,
   "id": "6196bcf4",
   "metadata": {},
   "outputs": [],
   "source": []
  },
  {
   "cell_type": "code",
   "execution_count": 24,
   "id": "813b6e34",
   "metadata": {},
   "outputs": [
    {
     "data": {
      "text/plain": [
       "(32561, 56)"
      ]
     },
     "execution_count": 24,
     "metadata": {},
     "output_type": "execute_result"
    }
   ],
   "source": [
    "X.shape"
   ]
  },
  {
   "cell_type": "code",
   "execution_count": 13,
   "id": "e9783136",
   "metadata": {},
   "outputs": [],
   "source": [
    "from sklearn.preprocessing import StandardScaler\n",
    "std = StandardScaler()\n",
    "X_temp = X.copy()\n",
    "X_temp['age'] = std.fit_transform(X_temp[['age']])"
   ]
  },
  {
   "cell_type": "code",
   "execution_count": 14,
   "id": "d24e348a",
   "metadata": {},
   "outputs": [],
   "source": [
    "from sklearn.decomposition import PCA\n",
    "pca = PCA(n_components=15)\n",
    "X_temp = pca.fit_transform(X_temp)"
   ]
  },
  {
   "cell_type": "code",
   "execution_count": 27,
   "id": "7a5615ee",
   "metadata": {},
   "outputs": [
    {
     "data": {
      "text/plain": [
       "(32561, 15)"
      ]
     },
     "execution_count": 27,
     "metadata": {},
     "output_type": "execute_result"
    }
   ],
   "source": [
    "X_temp.shape"
   ]
  },
  {
   "cell_type": "code",
   "execution_count": 15,
   "id": "2949eadd",
   "metadata": {},
   "outputs": [],
   "source": [
    "from sklearn.model_selection import train_test_split\n",
    "X_train, X_test, y_train, y_test = train_test_split(X_temp, y, test_size=0.33, random_state=42)\n",
    "X_train, X_val, y_train, y_val = train_test_split(X_temp, y, test_size=0.05, random_state=42)"
   ]
  },
  {
   "cell_type": "code",
   "execution_count": 29,
   "id": "f6b78de2",
   "metadata": {},
   "outputs": [],
   "source": [
    "from sklearn.ensemble import AdaBoostClassifier"
   ]
  },
  {
   "cell_type": "code",
   "execution_count": 20,
   "id": "7e1cccdc",
   "metadata": {},
   "outputs": [],
   "source": [
    "ada = AdaBoostClassifier(n_estimators=200)"
   ]
  },
  {
   "cell_type": "code",
   "execution_count": 21,
   "id": "eb316006",
   "metadata": {},
   "outputs": [
    {
     "data": {
      "text/plain": [
       "AdaBoostClassifier(n_estimators=200)"
      ]
     },
     "execution_count": 21,
     "metadata": {},
     "output_type": "execute_result"
    }
   ],
   "source": [
    "ada.fit(X_train, y_train)"
   ]
  },
  {
   "cell_type": "code",
   "execution_count": 22,
   "id": "9eb85596",
   "metadata": {},
   "outputs": [],
   "source": [
    "pred1_ = ada.predict(X_val)"
   ]
  },
  {
   "cell_type": "code",
   "execution_count": 16,
   "id": "14b2299d",
   "metadata": {},
   "outputs": [],
   "source": [
    "from sklearn.metrics import classification_report, confusion_matrix, accuracy_score"
   ]
  },
  {
   "cell_type": "code",
   "execution_count": 24,
   "id": "aef19bee",
   "metadata": {},
   "outputs": [
    {
     "name": "stdout",
     "output_type": "stream",
     "text": [
      "[[1105  125]\n",
      " [ 171  228]] \n",
      "\n",
      "              precision    recall  f1-score   support\n",
      "\n",
      "       <=50K       0.87      0.90      0.88      1230\n",
      "        >50K       0.65      0.57      0.61       399\n",
      "\n",
      "    accuracy                           0.82      1629\n",
      "   macro avg       0.76      0.73      0.74      1629\n",
      "weighted avg       0.81      0.82      0.81      1629\n",
      " \n",
      "\n",
      "0.8182934315531001\n"
     ]
    }
   ],
   "source": [
    "print(confusion_matrix(y_val, pred1_), \"\\n\")\n",
    "print(classification_report(y_val, pred1_), \"\\n\")\n",
    "print(accuracy_score(y_val, pred1_))"
   ]
  },
  {
   "cell_type": "code",
   "execution_count": 42,
   "id": "6cf40f16",
   "metadata": {},
   "outputs": [
    {
     "name": "stdout",
     "output_type": "stream",
     "text": [
      "[[1111  119]\n",
      " [ 172  227]] \n",
      "\n",
      "              precision    recall  f1-score   support\n",
      "\n",
      "       <=50K       0.87      0.90      0.88      1230\n",
      "        >50K       0.66      0.57      0.61       399\n",
      "\n",
      "    accuracy                           0.82      1629\n",
      "   macro avg       0.76      0.74      0.75      1629\n",
      "weighted avg       0.81      0.82      0.82      1629\n",
      " \n",
      "\n",
      "0.8213627992633518\n"
     ]
    }
   ],
   "source": [
    "ada1 = AdaBoostClassifier(n_estimators=1000, learning_rate=0.1)\n",
    "ada1.fit(X_train, y_train)\n",
    "pred2 = ada1.predict(X_val)\n",
    "print(confusion_matrix(y_val, pred2), \"\\n\")\n",
    "print(classification_report(y_val, pred2), \"\\n\")\n",
    "print(accuracy_score(y_val, pred2))"
   ]
  },
  {
   "cell_type": "code",
   "execution_count": 43,
   "id": "dec2238d",
   "metadata": {},
   "outputs": [],
   "source": [
    "pred = ada1.predict(X_test)"
   ]
  },
  {
   "cell_type": "code",
   "execution_count": 44,
   "id": "bb10b62c",
   "metadata": {},
   "outputs": [
    {
     "name": "stdout",
     "output_type": "stream",
     "text": [
      "[[7494  702]\n",
      " [1107 1443]] \n",
      "\n",
      "              precision    recall  f1-score   support\n",
      "\n",
      "       <=50K       0.87      0.91      0.89      8196\n",
      "        >50K       0.67      0.57      0.61      2550\n",
      "\n",
      "    accuracy                           0.83     10746\n",
      "   macro avg       0.77      0.74      0.75     10746\n",
      "weighted avg       0.82      0.83      0.83     10746\n",
      " \n",
      "\n",
      "0.8316582914572864\n"
     ]
    }
   ],
   "source": [
    "print(confusion_matrix(y_test, pred), \"\\n\")\n",
    "print(classification_report(y_test, pred), \"\\n\")\n",
    "print(accuracy_score(y_test, pred))"
   ]
  },
  {
   "cell_type": "code",
   "execution_count": 45,
   "id": "b8c45416",
   "metadata": {},
   "outputs": [
    {
     "name": "stdout",
     "output_type": "stream",
     "text": [
      "[[1115  115]\n",
      " [ 181  218]] \n",
      "\n",
      "              precision    recall  f1-score   support\n",
      "\n",
      "       <=50K       0.86      0.91      0.88      1230\n",
      "        >50K       0.65      0.55      0.60       399\n",
      "\n",
      "    accuracy                           0.82      1629\n",
      "   macro avg       0.76      0.73      0.74      1629\n",
      "weighted avg       0.81      0.82      0.81      1629\n",
      " \n",
      "\n",
      "0.8182934315531001\n"
     ]
    }
   ],
   "source": [
    "ada2 = AdaBoostClassifier(n_estimators=500, learning_rate=0.1)\n",
    "ada2.fit(X_train, y_train)\n",
    "pred3 = ada2.predict(X_val)\n",
    "print(confusion_matrix(y_val, pred3), \"\\n\")\n",
    "print(classification_report(y_val, pred3), \"\\n\")\n",
    "print(accuracy_score(y_val, pred3))"
   ]
  },
  {
   "cell_type": "code",
   "execution_count": 34,
   "id": "e1bd7a28",
   "metadata": {},
   "outputs": [],
   "source": [
    "ada1 = AdaBoostClassifier(n_estimators=1000)\n",
    "ada1.fit(X_train, y_train)\n",
    "pred2 = ada1.predict(X_val)"
   ]
  },
  {
   "cell_type": "code",
   "execution_count": 32,
   "id": "d2404827",
   "metadata": {},
   "outputs": [
    {
     "name": "stdout",
     "output_type": "stream",
     "text": [
      "[[1137   93]\n",
      " [ 161  238]] \n",
      "\n",
      "              precision    recall  f1-score   support\n",
      "\n",
      "       <=50K       0.88      0.92      0.90      1230\n",
      "        >50K       0.72      0.60      0.65       399\n",
      "\n",
      "    accuracy                           0.84      1629\n",
      "   macro avg       0.80      0.76      0.78      1629\n",
      "weighted avg       0.84      0.84      0.84      1629\n",
      " \n",
      "\n",
      "0.8440761203192142\n"
     ]
    }
   ],
   "source": [
    "print(confusion_matrix(y_val, pred2), \"\\n\")\n",
    "print(classification_report(y_val, pred2), \"\\n\")\n",
    "print(accuracy_score(y_val, pred2))"
   ]
  },
  {
   "cell_type": "code",
   "execution_count": 35,
   "id": "eeb2a865",
   "metadata": {},
   "outputs": [
    {
     "name": "stdout",
     "output_type": "stream",
     "text": [
      "[[1124  106]\n",
      " [ 146  253]] \n",
      "\n",
      "              precision    recall  f1-score   support\n",
      "\n",
      "       <=50K       0.89      0.91      0.90      1230\n",
      "        >50K       0.70      0.63      0.67       399\n",
      "\n",
      "    accuracy                           0.85      1629\n",
      "   macro avg       0.79      0.77      0.78      1629\n",
      "weighted avg       0.84      0.85      0.84      1629\n",
      " \n",
      "\n",
      "0.8453038674033149\n"
     ]
    }
   ],
   "source": [
    "print(confusion_matrix(y_val, pred2), \"\\n\")\n",
    "print(classification_report(y_val, pred2), \"\\n\")\n",
    "print(accuracy_score(y_val, pred2))"
   ]
  },
  {
   "cell_type": "code",
   "execution_count": 33,
   "id": "649771de",
   "metadata": {},
   "outputs": [
    {
     "name": "stdout",
     "output_type": "stream",
     "text": [
      "[[7625  571]\n",
      " [1031 1519]] \n",
      "\n",
      "              precision    recall  f1-score   support\n",
      "\n",
      "       <=50K       0.88      0.93      0.90      8196\n",
      "        >50K       0.73      0.60      0.65      2550\n",
      "\n",
      "    accuracy                           0.85     10746\n",
      "   macro avg       0.80      0.76      0.78     10746\n",
      "weighted avg       0.84      0.85      0.85     10746\n",
      " \n",
      "\n",
      "0.8509212730318257\n"
     ]
    }
   ],
   "source": [
    "pred = ada1.predict(X_test)\n",
    "print(confusion_matrix(y_test, pred), \"\\n\")\n",
    "print(classification_report(y_test, pred), \"\\n\")\n",
    "print(accuracy_score(y_test, pred))"
   ]
  },
  {
   "cell_type": "code",
   "execution_count": 36,
   "id": "ac7d7b4b",
   "metadata": {},
   "outputs": [
    {
     "name": "stdout",
     "output_type": "stream",
     "text": [
      "[[7618  578]\n",
      " [ 915 1635]] \n",
      "\n",
      "              precision    recall  f1-score   support\n",
      "\n",
      "       <=50K       0.89      0.93      0.91      8196\n",
      "        >50K       0.74      0.64      0.69      2550\n",
      "\n",
      "    accuracy                           0.86     10746\n",
      "   macro avg       0.82      0.79      0.80     10746\n",
      "weighted avg       0.86      0.86      0.86     10746\n",
      " \n",
      "\n",
      "0.8610645821701098\n"
     ]
    }
   ],
   "source": [
    "pred = ada1.predict(X_test)\n",
    "print(confusion_matrix(y_test, pred), \"\\n\")\n",
    "print(classification_report(y_test, pred), \"\\n\")\n",
    "print(accuracy_score(y_test, pred))"
   ]
  },
  {
   "cell_type": "code",
   "execution_count": 17,
   "id": "f3e6c8bf",
   "metadata": {},
   "outputs": [],
   "source": [
    "from sklearn.ensemble import RandomForestClassifier"
   ]
  },
  {
   "cell_type": "code",
   "execution_count": 33,
   "id": "5280cc3c",
   "metadata": {},
   "outputs": [],
   "source": [
    "rfc = RandomForestClassifier(n_estimators=200, max_depth=70)"
   ]
  },
  {
   "cell_type": "code",
   "execution_count": 34,
   "id": "cdfa2567",
   "metadata": {},
   "outputs": [
    {
     "data": {
      "text/plain": [
       "RandomForestClassifier(max_depth=70, n_estimators=200)"
      ]
     },
     "execution_count": 34,
     "metadata": {},
     "output_type": "execute_result"
    }
   ],
   "source": [
    "rfc.fit(X_train, y_train)"
   ]
  },
  {
   "cell_type": "code",
   "execution_count": 20,
   "id": "a193c542",
   "metadata": {},
   "outputs": [
    {
     "name": "stdout",
     "output_type": "stream",
     "text": [
      "[[7917  279]\n",
      " [ 560 1990]] \n",
      "\n",
      "              precision    recall  f1-score   support\n",
      "\n",
      "       <=50K       0.93      0.97      0.95      8196\n",
      "        >50K       0.88      0.78      0.83      2550\n",
      "\n",
      "    accuracy                           0.92     10746\n",
      "   macro avg       0.91      0.87      0.89     10746\n",
      "weighted avg       0.92      0.92      0.92     10746\n",
      " \n",
      "\n",
      "0.9219244369998139\n"
     ]
    }
   ],
   "source": [
    "pred_rfc = rfc.predict(X_test)\n",
    "print(confusion_matrix(y_test, pred_rfc), \"\\n\")\n",
    "print(classification_report(y_test, pred_rfc), \"\\n\")\n",
    "print(accuracy_score(y_test, pred_rfc))\n",
    "\n",
    "# 1000 = n_estim, max_depth= 15"
   ]
  },
  {
   "cell_type": "code",
   "execution_count": 23,
   "id": "3e8ce495",
   "metadata": {},
   "outputs": [
    {
     "name": "stdout",
     "output_type": "stream",
     "text": [
      "[[7915  281]\n",
      " [ 542 2008]] \n",
      "\n",
      "              precision    recall  f1-score   support\n",
      "\n",
      "       <=50K       0.94      0.97      0.95      8196\n",
      "        >50K       0.88      0.79      0.83      2550\n",
      "\n",
      "    accuracy                           0.92     10746\n",
      "   macro avg       0.91      0.88      0.89     10746\n",
      "weighted avg       0.92      0.92      0.92     10746\n",
      " \n",
      "\n",
      "0.9234133631118556\n"
     ]
    }
   ],
   "source": [
    "pred_rfc = rfc.predict(X_test)\n",
    "print(confusion_matrix(y_test, pred_rfc), \"\\n\")\n",
    "print(classification_report(y_test, pred_rfc), \"\\n\")\n",
    "print(accuracy_score(y_test, pred_rfc))\n",
    "\n",
    "# 5000 = n_estim, max_depth = 15"
   ]
  },
  {
   "cell_type": "code",
   "execution_count": 26,
   "id": "6a7b1689",
   "metadata": {},
   "outputs": [
    {
     "name": "stdout",
     "output_type": "stream",
     "text": [
      "[[7907  289]\n",
      " [ 565 1985]] \n",
      "\n",
      "              precision    recall  f1-score   support\n",
      "\n",
      "       <=50K       0.93      0.96      0.95      8196\n",
      "        >50K       0.87      0.78      0.82      2550\n",
      "\n",
      "    accuracy                           0.92     10746\n",
      "   macro avg       0.90      0.87      0.89     10746\n",
      "weighted avg       0.92      0.92      0.92     10746\n",
      " \n",
      "\n",
      "0.9205285687697748\n"
     ]
    }
   ],
   "source": [
    "pred_rfc = rfc.predict(X_test)\n",
    "print(confusion_matrix(y_test, pred_rfc), \"\\n\")\n",
    "print(classification_report(y_test, pred_rfc), \"\\n\")\n",
    "print(accuracy_score(y_test, pred_rfc))\n",
    "\n",
    "# 200 = n_estim, max_depth = 15"
   ]
  },
  {
   "cell_type": "code",
   "execution_count": 29,
   "id": "d1703665",
   "metadata": {},
   "outputs": [
    {
     "name": "stdout",
     "output_type": "stream",
     "text": [
      "[[7948  248]\n",
      " [ 340 2210]] \n",
      "\n",
      "              precision    recall  f1-score   support\n",
      "\n",
      "       <=50K       0.96      0.97      0.96      8196\n",
      "        >50K       0.90      0.87      0.88      2550\n",
      "\n",
      "    accuracy                           0.95     10746\n",
      "   macro avg       0.93      0.92      0.92     10746\n",
      "weighted avg       0.94      0.95      0.94     10746\n",
      " \n",
      "\n",
      "0.9452819653824679\n"
     ]
    }
   ],
   "source": [
    "pred_rfc = rfc.predict(X_test)\n",
    "print(confusion_matrix(y_test, pred_rfc), \"\\n\")\n",
    "print(classification_report(y_test, pred_rfc), \"\\n\")\n",
    "print(accuracy_score(y_test, pred_rfc))\n",
    "\n",
    "# 200 = n_estim, max_depth = 20"
   ]
  },
  {
   "cell_type": "code",
   "execution_count": 32,
   "id": "8793987d",
   "metadata": {},
   "outputs": [
    {
     "name": "stdout",
     "output_type": "stream",
     "text": [
      "[[7954  242]\n",
      " [ 314 2236]] \n",
      "\n",
      "              precision    recall  f1-score   support\n",
      "\n",
      "       <=50K       0.96      0.97      0.97      8196\n",
      "        >50K       0.90      0.88      0.89      2550\n",
      "\n",
      "    accuracy                           0.95     10746\n",
      "   macro avg       0.93      0.92      0.93     10746\n",
      "weighted avg       0.95      0.95      0.95     10746\n",
      " \n",
      "\n",
      "0.9482598176065513\n"
     ]
    }
   ],
   "source": [
    "pred_rfc = rfc.predict(X_test)\n",
    "print(confusion_matrix(y_test, pred_rfc), \"\\n\")\n",
    "print(classification_report(y_test, pred_rfc), \"\\n\")\n",
    "print(accuracy_score(y_test, pred_rfc))\n",
    "\n",
    "# 200 = n_estim, max_depth = 35"
   ]
  },
  {
   "cell_type": "code",
   "execution_count": 35,
   "id": "be868422",
   "metadata": {},
   "outputs": [
    {
     "name": "stdout",
     "output_type": "stream",
     "text": [
      "[[7966  230]\n",
      " [ 329 2221]] \n",
      "\n",
      "              precision    recall  f1-score   support\n",
      "\n",
      "       <=50K       0.96      0.97      0.97      8196\n",
      "        >50K       0.91      0.87      0.89      2550\n",
      "\n",
      "    accuracy                           0.95     10746\n",
      "   macro avg       0.93      0.92      0.93     10746\n",
      "weighted avg       0.95      0.95      0.95     10746\n",
      " \n",
      "\n",
      "0.9479806439605435\n"
     ]
    }
   ],
   "source": [
    "pred_rfc = rfc.predict(X_test)\n",
    "print(confusion_matrix(y_test, pred_rfc), \"\\n\")\n",
    "print(classification_report(y_test, pred_rfc), \"\\n\")\n",
    "print(accuracy_score(y_test, pred_rfc))\n",
    "\n",
    "# 200 = n_estim, max_depth = 70"
   ]
  },
  {
   "cell_type": "code",
   "execution_count": null,
   "id": "2e0b77b4",
   "metadata": {},
   "outputs": [],
   "source": []
  }
 ],
 "metadata": {
  "kernelspec": {
   "display_name": "Python 3",
   "language": "python",
   "name": "python3"
  },
  "language_info": {
   "codemirror_mode": {
    "name": "ipython",
    "version": 3
   },
   "file_extension": ".py",
   "mimetype": "text/x-python",
   "name": "python",
   "nbconvert_exporter": "python",
   "pygments_lexer": "ipython3",
   "version": "3.8.3"
  }
 },
 "nbformat": 4,
 "nbformat_minor": 5
}
