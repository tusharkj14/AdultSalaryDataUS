{
 "cells": [
  {
   "cell_type": "code",
   "execution_count": 1,
   "id": "2aaca521",
   "metadata": {},
   "outputs": [],
   "source": [
    "import numpy as np\n",
    "import pandas as pd\n",
    "import matplotlib.pyplot as plt\n",
    "import seaborn as sns\n",
    "%matplotlib inline"
   ]
  },
  {
   "cell_type": "code",
   "execution_count": 2,
   "id": "d8300344",
   "metadata": {},
   "outputs": [],
   "source": [
    "name_cols = []\n",
    "with open('adult.names') as file:\n",
    "    for f in file.readlines():\n",
    "        if not str(f).startswith('|') and ':' in str(f):\n",
    "            name_cols.append(str(f).split(':')[0])\n",
    "name_cols.append('Salary')"
   ]
  },
  {
   "cell_type": "code",
   "execution_count": 3,
   "id": "8dd7db49",
   "metadata": {},
   "outputs": [],
   "source": [
    "df = pd.read_csv('adult.data', names=name_cols)"
   ]
  },
  {
   "cell_type": "code",
   "execution_count": 4,
   "id": "90fd1a41",
   "metadata": {},
   "outputs": [],
   "source": [
    "from AdultDataTransformer import TransformAdultData"
   ]
  },
  {
   "cell_type": "code",
   "execution_count": 5,
   "id": "6c631a24",
   "metadata": {},
   "outputs": [],
   "source": [
    "tad = TransformAdultData()"
   ]
  },
  {
   "cell_type": "code",
   "execution_count": 6,
   "id": "8152e9bf",
   "metadata": {},
   "outputs": [],
   "source": [
    "df = tad.fit(df)"
   ]
  },
  {
   "cell_type": "code",
   "execution_count": 7,
   "id": "728a3aad",
   "metadata": {},
   "outputs": [],
   "source": [
    "df = tad.transform(df)"
   ]
  },
  {
   "cell_type": "code",
   "execution_count": 8,
   "id": "fdc78b7f",
   "metadata": {},
   "outputs": [],
   "source": [
    "workclass_ = pd.get_dummies(df['workclass'], drop_first=True)\n",
    "marital_ = pd.get_dummies(df['marital-status'], drop_first=True)\n",
    "occupation_ = pd.get_dummies(df['occupation'], drop_first=True)\n",
    "relationship_ = pd.get_dummies(df['relationship'], drop_first=True)\n",
    "race_ = pd.get_dummies(df['race'], drop_first=True)\n",
    "sex_ = pd.get_dummies(df['sex'], drop_first=True)\n",
    "country_ = pd.get_dummies(df['native-country'], drop_first=True)\n",
    "edn_ = pd.get_dummies(df['education'], drop_first=True)"
   ]
  },
  {
   "cell_type": "code",
   "execution_count": 9,
   "id": "83476588",
   "metadata": {},
   "outputs": [],
   "source": [
    "X = pd.concat([df[['age', 'fnlwgt','hours-per-week']], workclass_ , marital_, occupation_, relationship_, race_, sex_, country_ ], axis=1)"
   ]
  },
  {
   "cell_type": "code",
   "execution_count": 10,
   "id": "d1b5f7f0",
   "metadata": {},
   "outputs": [],
   "source": [
    "y = df['Salary']"
   ]
  },
  {
   "cell_type": "code",
   "execution_count": 11,
   "id": "6688cec1",
   "metadata": {},
   "outputs": [],
   "source": [
    "from sklearn.decomposition import PCA"
   ]
  },
  {
   "cell_type": "code",
   "execution_count": 12,
   "id": "bf4c45c2",
   "metadata": {},
   "outputs": [],
   "source": [
    "pc = PCA()"
   ]
  },
  {
   "cell_type": "code",
   "execution_count": 13,
   "id": "3bbb6a73",
   "metadata": {},
   "outputs": [],
   "source": [
    "X = pc.fit_transform(X)"
   ]
  },
  {
   "cell_type": "code",
   "execution_count": 15,
   "id": "5c884cf6",
   "metadata": {},
   "outputs": [],
   "source": [
    "from sklearn.model_selection import train_test_split"
   ]
  },
  {
   "cell_type": "code",
   "execution_count": 33,
   "id": "7ebe62bf",
   "metadata": {},
   "outputs": [],
   "source": [
    "X_train, X_test, y_train, y_test = train_test_split(X, y, test_size=0.33, random_state=42)"
   ]
  },
  {
   "cell_type": "code",
   "execution_count": 17,
   "id": "f6edcdf4",
   "metadata": {},
   "outputs": [
    {
     "data": {
      "text/plain": [
       "(26048, 49)"
      ]
     },
     "execution_count": 17,
     "metadata": {},
     "output_type": "execute_result"
    }
   ],
   "source": [
    "X_train.shape"
   ]
  },
  {
   "cell_type": "code",
   "execution_count": 18,
   "id": "e4f1d4e6",
   "metadata": {},
   "outputs": [
    {
     "data": {
      "text/plain": [
       "(6513, 49)"
      ]
     },
     "execution_count": 18,
     "metadata": {},
     "output_type": "execute_result"
    }
   ],
   "source": [
    "X_test.shape"
   ]
  },
  {
   "cell_type": "code",
   "execution_count": 38,
   "id": "402f5af7",
   "metadata": {},
   "outputs": [],
   "source": [
    "from sklearn.ensemble import RandomForestClassifier"
   ]
  },
  {
   "cell_type": "code",
   "execution_count": 44,
   "id": "56433620",
   "metadata": {},
   "outputs": [],
   "source": [
    "rfc = RandomForestClassifier(n_estimators=1000)"
   ]
  },
  {
   "cell_type": "code",
   "execution_count": 45,
   "id": "a46dc342",
   "metadata": {},
   "outputs": [
    {
     "data": {
      "text/plain": [
       "RandomForestClassifier(n_estimators=1000)"
      ]
     },
     "execution_count": 45,
     "metadata": {},
     "output_type": "execute_result"
    }
   ],
   "source": [
    "rfc.fit(X_train, y_train)"
   ]
  },
  {
   "cell_type": "code",
   "execution_count": 46,
   "id": "8d2982c9",
   "metadata": {},
   "outputs": [],
   "source": [
    "pred_ = rfc.predict(X_test)"
   ]
  },
  {
   "cell_type": "code",
   "execution_count": 47,
   "id": "c7a2204c",
   "metadata": {},
   "outputs": [
    {
     "name": "stdout",
     "output_type": "stream",
     "text": [
      "[[7364  832]\n",
      " [1224 1326]] \n",
      "\n",
      "              precision    recall  f1-score   support\n",
      "\n",
      "       <=50K       0.86      0.90      0.88      8196\n",
      "        >50K       0.61      0.52      0.56      2550\n",
      "\n",
      "    accuracy                           0.81     10746\n",
      "   macro avg       0.74      0.71      0.72     10746\n",
      "weighted avg       0.80      0.81      0.80     10746\n",
      " \n",
      "\n",
      "0.8086729946026429\n"
     ]
    }
   ],
   "source": [
    "print(confusion_matrix(y_test, pred_), \"\\n\")\n",
    "print(classification_report(y_test, pred_), \"\\n\")\n",
    "print(accuracy_score(y_test, pred_))"
   ]
  },
  {
   "cell_type": "code",
   "execution_count": null,
   "id": "8dc821c3",
   "metadata": {},
   "outputs": [],
   "source": []
  }
 ],
 "metadata": {
  "kernelspec": {
   "display_name": "Python 3",
   "language": "python",
   "name": "python3"
  },
  "language_info": {
   "codemirror_mode": {
    "name": "ipython",
    "version": 3
   },
   "file_extension": ".py",
   "mimetype": "text/x-python",
   "name": "python",
   "nbconvert_exporter": "python",
   "pygments_lexer": "ipython3",
   "version": "3.8.3"
  }
 },
 "nbformat": 4,
 "nbformat_minor": 5
}
