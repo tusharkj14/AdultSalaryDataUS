{
 "cells": [
  {
   "cell_type": "code",
   "execution_count": 1,
   "id": "2aaca521",
   "metadata": {},
   "outputs": [],
   "source": [
    "import numpy as np\n",
    "import pandas as pd\n",
    "import matplotlib.pyplot as plt\n",
    "import seaborn as sns\n",
    "%matplotlib inline"
   ]
  },
  {
   "cell_type": "code",
   "execution_count": 2,
   "id": "d8300344",
   "metadata": {},
   "outputs": [],
   "source": [
    "name_cols = []\n",
    "with open('adult.names') as file:\n",
    "    for f in file.readlines():\n",
    "        if not str(f).startswith('|') and ':' in str(f):\n",
    "            name_cols.append(str(f).split(':')[0])\n",
    "name_cols.append('Salary')"
   ]
  },
  {
   "cell_type": "code",
   "execution_count": 3,
   "id": "8dd7db49",
   "metadata": {},
   "outputs": [],
   "source": [
    "df = pd.read_csv('adult.data', names=name_cols)"
   ]
  },
  {
   "cell_type": "code",
   "execution_count": 4,
   "id": "90fd1a41",
   "metadata": {},
   "outputs": [],
   "source": [
    "from AdultDataTransformer import TransformAdultData"
   ]
  },
  {
   "cell_type": "code",
   "execution_count": 5,
   "id": "6c631a24",
   "metadata": {},
   "outputs": [],
   "source": [
    "tad = TransformAdultData()"
   ]
  },
  {
   "cell_type": "code",
   "execution_count": 6,
   "id": "8152e9bf",
   "metadata": {},
   "outputs": [],
   "source": [
    "df = tad.fit(df)"
   ]
  },
  {
   "cell_type": "code",
   "execution_count": 7,
   "id": "728a3aad",
   "metadata": {},
   "outputs": [],
   "source": [
    "df = tad.transform(df)"
   ]
  },
  {
   "cell_type": "code",
   "execution_count": 8,
   "id": "fdc78b7f",
   "metadata": {},
   "outputs": [],
   "source": [
    "workclass_ = pd.get_dummies(df['workclass'], drop_first=True)\n",
    "marital_ = pd.get_dummies(df['marital-status'], drop_first=True)\n",
    "occupation_ = pd.get_dummies(df['occupation'], drop_first=True)\n",
    "relationship_ = pd.get_dummies(df['relationship'], drop_first=True)\n",
    "race_ = pd.get_dummies(df['race'], drop_first=True)\n",
    "sex_ = pd.get_dummies(df['sex'], drop_first=True)\n",
    "country_ = pd.get_dummies(df['native-country'], drop_first=True)\n",
    "edn_ = pd.get_dummies(df['education'], drop_first=True)"
   ]
  },
  {
   "cell_type": "code",
   "execution_count": 9,
   "id": "83476588",
   "metadata": {},
   "outputs": [],
   "source": [
    "X = pd.concat([df[['age', 'fnlwgt','hours-per-week']], workclass_ , occupation_, edn_, sex_, country_ ], axis=1)"
   ]
  },
  {
   "cell_type": "code",
   "execution_count": 10,
   "id": "228c28af",
   "metadata": {},
   "outputs": [
    {
     "name": "stdout",
     "output_type": "stream",
     "text": [
      "<class 'pandas.core.frame.DataFrame'>\n",
      "RangeIndex: 32561 entries, 0 to 32560\n",
      "Data columns (total 40 columns):\n",
      " #   Column             Non-Null Count  Dtype\n",
      "---  ------             --------------  -----\n",
      " 0   age                32561 non-null  int64\n",
      " 1   fnlwgt             32561 non-null  int64\n",
      " 2   hours-per-week     32561 non-null  int64\n",
      " 3   Local-gov          32561 non-null  uint8\n",
      " 4   Never-worked       32561 non-null  uint8\n",
      " 5   Other-service      32561 non-null  uint8\n",
      " 6   Private            32561 non-null  uint8\n",
      " 7   Self-emp-inc       32561 non-null  uint8\n",
      " 8   Self-emp-not-inc   32561 non-null  uint8\n",
      " 9   State-gov          32561 non-null  uint8\n",
      " 10  Without-pay        32561 non-null  uint8\n",
      " 11  Armed-Forces       32561 non-null  uint8\n",
      " 12  Craft-repair       32561 non-null  uint8\n",
      " 13  Exec-managerial    32561 non-null  uint8\n",
      " 14  Farming-fishing    32561 non-null  uint8\n",
      " 15  Handlers-cleaners  32561 non-null  uint8\n",
      " 16  Machine-op-inspct  32561 non-null  uint8\n",
      " 17  Other-service      32561 non-null  uint8\n",
      " 18  Priv-house-serv    32561 non-null  uint8\n",
      " 19  Prof-specialty     32561 non-null  uint8\n",
      " 20  Protective-serv    32561 non-null  uint8\n",
      " 21  Sales              32561 non-null  uint8\n",
      " 22  Tech-support       32561 non-null  uint8\n",
      " 23  Transport-moving   32561 non-null  uint8\n",
      " 24  Bachelors          32561 non-null  uint8\n",
      " 25  Compulsory         32561 non-null  uint8\n",
      " 26  Doctorate          32561 non-null  uint8\n",
      " 27  High School        32561 non-null  uint8\n",
      " 28  Masters            32561 non-null  uint8\n",
      " 29  Prof-school        32561 non-null  uint8\n",
      " 30  Male               32561 non-null  uint8\n",
      " 31  Cuba               32561 non-null  uint8\n",
      " 32  El-Salvador        32561 non-null  uint8\n",
      " 33  Germany            32561 non-null  uint8\n",
      " 34  India              32561 non-null  uint8\n",
      " 35  Mexico             32561 non-null  uint8\n",
      " 36  Others             32561 non-null  uint8\n",
      " 37  Philippines        32561 non-null  uint8\n",
      " 38  Puerto-Rico        32561 non-null  uint8\n",
      " 39  United-States      32561 non-null  uint8\n",
      "dtypes: int64(3), uint8(37)\n",
      "memory usage: 1.9 MB\n"
     ]
    }
   ],
   "source": [
    "X.info()"
   ]
  },
  {
   "cell_type": "code",
   "execution_count": 11,
   "id": "0f2f7697",
   "metadata": {},
   "outputs": [],
   "source": [
    "from sklearn.preprocessing import StandardScaler\n",
    "std = StandardScaler()\n",
    "X['age'] = std.fit_transform(X[['age']])"
   ]
  },
  {
   "cell_type": "code",
   "execution_count": 12,
   "id": "d1b5f7f0",
   "metadata": {},
   "outputs": [],
   "source": [
    "y = df['Salary']"
   ]
  },
  {
   "cell_type": "code",
   "execution_count": 13,
   "id": "6688cec1",
   "metadata": {},
   "outputs": [],
   "source": [
    "from sklearn.decomposition import PCA"
   ]
  },
  {
   "cell_type": "code",
   "execution_count": 14,
   "id": "bf4c45c2",
   "metadata": {},
   "outputs": [],
   "source": [
    "pc = PCA(n_components=10)"
   ]
  },
  {
   "cell_type": "code",
   "execution_count": 15,
   "id": "3bbb6a73",
   "metadata": {},
   "outputs": [],
   "source": [
    "X = pc.fit_transform(X)"
   ]
  },
  {
   "cell_type": "code",
   "execution_count": 16,
   "id": "5c884cf6",
   "metadata": {},
   "outputs": [],
   "source": [
    "from sklearn.model_selection import train_test_split"
   ]
  },
  {
   "cell_type": "code",
   "execution_count": 17,
   "id": "7ebe62bf",
   "metadata": {},
   "outputs": [],
   "source": [
    "X_train, X_test, y_train, y_test = train_test_split(X, y, test_size=0.33, random_state=42)"
   ]
  },
  {
   "cell_type": "code",
   "execution_count": 18,
   "id": "f6edcdf4",
   "metadata": {},
   "outputs": [
    {
     "data": {
      "text/plain": [
       "(21815, 10)"
      ]
     },
     "execution_count": 18,
     "metadata": {},
     "output_type": "execute_result"
    }
   ],
   "source": [
    "X_train.shape"
   ]
  },
  {
   "cell_type": "code",
   "execution_count": 19,
   "id": "e4f1d4e6",
   "metadata": {},
   "outputs": [
    {
     "data": {
      "text/plain": [
       "(10746, 10)"
      ]
     },
     "execution_count": 19,
     "metadata": {},
     "output_type": "execute_result"
    }
   ],
   "source": [
    "X_test.shape"
   ]
  },
  {
   "cell_type": "code",
   "execution_count": 17,
   "id": "402f5af7",
   "metadata": {},
   "outputs": [],
   "source": [
    "from sklearn.ensemble import RandomForestClassifier"
   ]
  },
  {
   "cell_type": "code",
   "execution_count": 18,
   "id": "56433620",
   "metadata": {},
   "outputs": [],
   "source": [
    "rfc = RandomForestClassifier()"
   ]
  },
  {
   "cell_type": "code",
   "execution_count": 19,
   "id": "a46dc342",
   "metadata": {},
   "outputs": [
    {
     "data": {
      "text/plain": [
       "RandomForestClassifier()"
      ]
     },
     "execution_count": 19,
     "metadata": {},
     "output_type": "execute_result"
    }
   ],
   "source": [
    "rfc.fit(X_train, y_train)"
   ]
  },
  {
   "cell_type": "code",
   "execution_count": 20,
   "id": "8d2982c9",
   "metadata": {},
   "outputs": [],
   "source": [
    "pred_ = rfc.predict(X_test)"
   ]
  },
  {
   "cell_type": "code",
   "execution_count": 25,
   "id": "13ee2434",
   "metadata": {},
   "outputs": [],
   "source": [
    "from sklearn.metrics import classification_report, confusion_matrix, accuracy_score"
   ]
  },
  {
   "cell_type": "code",
   "execution_count": 22,
   "id": "c7a2204c",
   "metadata": {},
   "outputs": [
    {
     "name": "stdout",
     "output_type": "stream",
     "text": [
      "[[7395  801]\n",
      " [1370 1180]] \n",
      "\n",
      "              precision    recall  f1-score   support\n",
      "\n",
      "       <=50K       0.84      0.90      0.87      8196\n",
      "        >50K       0.60      0.46      0.52      2550\n",
      "\n",
      "    accuracy                           0.80     10746\n",
      "   macro avg       0.72      0.68      0.70     10746\n",
      "weighted avg       0.78      0.80      0.79     10746\n",
      " \n",
      "\n",
      "0.7979713381723432\n"
     ]
    }
   ],
   "source": [
    "print(confusion_matrix(y_test, pred_), \"\\n\")\n",
    "print(classification_report(y_test, pred_), \"\\n\")\n",
    "print(accuracy_score(y_test, pred_))"
   ]
  },
  {
   "cell_type": "code",
   "execution_count": 20,
   "id": "6347bd2e",
   "metadata": {},
   "outputs": [],
   "source": [
    "from sklearn.ensemble import GradientBoostingClassifier"
   ]
  },
  {
   "cell_type": "code",
   "execution_count": 27,
   "id": "03b3204c",
   "metadata": {},
   "outputs": [],
   "source": [
    "xgb = GradientBoostingClassifier(n_estimators=10000)"
   ]
  },
  {
   "cell_type": "code",
   "execution_count": 28,
   "id": "a060ba4b",
   "metadata": {},
   "outputs": [
    {
     "data": {
      "text/plain": [
       "GradientBoostingClassifier(n_estimators=10000)"
      ]
     },
     "execution_count": 28,
     "metadata": {},
     "output_type": "execute_result"
    }
   ],
   "source": [
    "xgb.fit(X_train, y_train)"
   ]
  },
  {
   "cell_type": "code",
   "execution_count": 29,
   "id": "f1b31a91",
   "metadata": {},
   "outputs": [],
   "source": [
    "pred1_ = xgb.predict(X_test)"
   ]
  },
  {
   "cell_type": "code",
   "execution_count": 26,
   "id": "4e044aca",
   "metadata": {},
   "outputs": [
    {
     "name": "stdout",
     "output_type": "stream",
     "text": [
      "[[7514  682]\n",
      " [1371 1179]] \n",
      "\n",
      "              precision    recall  f1-score   support\n",
      "\n",
      "       <=50K       0.85      0.92      0.88      8196\n",
      "        >50K       0.63      0.46      0.53      2550\n",
      "\n",
      "    accuracy                           0.81     10746\n",
      "   macro avg       0.74      0.69      0.71     10746\n",
      "weighted avg       0.80      0.81      0.80     10746\n",
      " \n",
      "\n",
      "0.8089521682486507\n"
     ]
    }
   ],
   "source": [
    "print(confusion_matrix(y_test, pred1_), \"\\n\")\n",
    "print(classification_report(y_test, pred1_), \"\\n\")\n",
    "print(accuracy_score(y_test, pred1_))"
   ]
  },
  {
   "cell_type": "code",
   "execution_count": null,
   "id": "59e3216b",
   "metadata": {},
   "outputs": [],
   "source": []
  }
 ],
 "metadata": {
  "kernelspec": {
   "display_name": "Python 3",
   "language": "python",
   "name": "python3"
  },
  "language_info": {
   "codemirror_mode": {
    "name": "ipython",
    "version": 3
   },
   "file_extension": ".py",
   "mimetype": "text/x-python",
   "name": "python",
   "nbconvert_exporter": "python",
   "pygments_lexer": "ipython3",
   "version": "3.8.3"
  }
 },
 "nbformat": 4,
 "nbformat_minor": 5
}
