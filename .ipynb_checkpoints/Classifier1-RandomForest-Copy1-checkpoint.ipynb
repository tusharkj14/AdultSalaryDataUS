{
 "cells": [
  {
   "cell_type": "code",
   "execution_count": 22,
   "id": "4ef24e63",
   "metadata": {},
   "outputs": [],
   "source": [
    "import numpy as np\n",
    "import pandas as pd\n",
    "import matplotlib.pyplot as plt\n",
    "import seaborn as sns\n",
    "%matplotlib inline\n",
    "sns.set_style('darkgrid')"
   ]
  },
  {
   "cell_type": "code",
   "execution_count": 2,
   "id": "6b6dc5c1",
   "metadata": {},
   "outputs": [],
   "source": [
    "df = pd.read_csv('AdultDataCleared.csv', index_col=0)"
   ]
  },
  {
   "cell_type": "code",
   "execution_count": 5,
   "id": "c8d39fa6",
   "metadata": {},
   "outputs": [
    {
     "data": {
      "text/html": [
       "<div>\n",
       "<style scoped>\n",
       "    .dataframe tbody tr th:only-of-type {\n",
       "        vertical-align: middle;\n",
       "    }\n",
       "\n",
       "    .dataframe tbody tr th {\n",
       "        vertical-align: top;\n",
       "    }\n",
       "\n",
       "    .dataframe thead th {\n",
       "        text-align: right;\n",
       "    }\n",
       "</style>\n",
       "<table border=\"1\" class=\"dataframe\">\n",
       "  <thead>\n",
       "    <tr style=\"text-align: right;\">\n",
       "      <th></th>\n",
       "      <th>age</th>\n",
       "      <th>workclass</th>\n",
       "      <th>fnlwgt</th>\n",
       "      <th>education</th>\n",
       "      <th>education-num</th>\n",
       "      <th>marital-status</th>\n",
       "      <th>occupation</th>\n",
       "      <th>relationship</th>\n",
       "      <th>race</th>\n",
       "      <th>sex</th>\n",
       "      <th>capital-gain</th>\n",
       "      <th>capital-loss</th>\n",
       "      <th>hours-per-week</th>\n",
       "      <th>native-country</th>\n",
       "      <th>Salary</th>\n",
       "    </tr>\n",
       "  </thead>\n",
       "  <tbody>\n",
       "    <tr>\n",
       "      <th>0</th>\n",
       "      <td>39</td>\n",
       "      <td>State-gov</td>\n",
       "      <td>77516</td>\n",
       "      <td>Bachelors</td>\n",
       "      <td>13</td>\n",
       "      <td>Never-married</td>\n",
       "      <td>Adm-clerical</td>\n",
       "      <td>Not-in-family</td>\n",
       "      <td>White</td>\n",
       "      <td>Male</td>\n",
       "      <td>2174</td>\n",
       "      <td>0</td>\n",
       "      <td>40</td>\n",
       "      <td>United-States</td>\n",
       "      <td>&lt;=50K</td>\n",
       "    </tr>\n",
       "    <tr>\n",
       "      <th>1</th>\n",
       "      <td>50</td>\n",
       "      <td>Self-emp-not-inc</td>\n",
       "      <td>83311</td>\n",
       "      <td>Bachelors</td>\n",
       "      <td>13</td>\n",
       "      <td>Married</td>\n",
       "      <td>Exec-managerial</td>\n",
       "      <td>Husband</td>\n",
       "      <td>White</td>\n",
       "      <td>Male</td>\n",
       "      <td>0</td>\n",
       "      <td>0</td>\n",
       "      <td>13</td>\n",
       "      <td>United-States</td>\n",
       "      <td>&lt;=50K</td>\n",
       "    </tr>\n",
       "    <tr>\n",
       "      <th>2</th>\n",
       "      <td>38</td>\n",
       "      <td>Private</td>\n",
       "      <td>215646</td>\n",
       "      <td>High School</td>\n",
       "      <td>9</td>\n",
       "      <td>Divorced</td>\n",
       "      <td>Handlers-cleaners</td>\n",
       "      <td>Not-in-family</td>\n",
       "      <td>White</td>\n",
       "      <td>Male</td>\n",
       "      <td>0</td>\n",
       "      <td>0</td>\n",
       "      <td>40</td>\n",
       "      <td>United-States</td>\n",
       "      <td>&lt;=50K</td>\n",
       "    </tr>\n",
       "    <tr>\n",
       "      <th>3</th>\n",
       "      <td>53</td>\n",
       "      <td>Private</td>\n",
       "      <td>234721</td>\n",
       "      <td>Compulsory</td>\n",
       "      <td>7</td>\n",
       "      <td>Married</td>\n",
       "      <td>Handlers-cleaners</td>\n",
       "      <td>Husband</td>\n",
       "      <td>Black</td>\n",
       "      <td>Male</td>\n",
       "      <td>0</td>\n",
       "      <td>0</td>\n",
       "      <td>40</td>\n",
       "      <td>United-States</td>\n",
       "      <td>&lt;=50K</td>\n",
       "    </tr>\n",
       "    <tr>\n",
       "      <th>4</th>\n",
       "      <td>28</td>\n",
       "      <td>Private</td>\n",
       "      <td>338409</td>\n",
       "      <td>Bachelors</td>\n",
       "      <td>13</td>\n",
       "      <td>Married</td>\n",
       "      <td>Prof-specialty</td>\n",
       "      <td>Wife</td>\n",
       "      <td>Black</td>\n",
       "      <td>Female</td>\n",
       "      <td>0</td>\n",
       "      <td>0</td>\n",
       "      <td>40</td>\n",
       "      <td>Cuba</td>\n",
       "      <td>&lt;=50K</td>\n",
       "    </tr>\n",
       "  </tbody>\n",
       "</table>\n",
       "</div>"
      ],
      "text/plain": [
       "   age         workclass  fnlwgt    education  education-num marital-status  \\\n",
       "0   39         State-gov   77516    Bachelors             13  Never-married   \n",
       "1   50  Self-emp-not-inc   83311    Bachelors             13        Married   \n",
       "2   38           Private  215646  High School              9       Divorced   \n",
       "3   53           Private  234721   Compulsory              7        Married   \n",
       "4   28           Private  338409    Bachelors             13        Married   \n",
       "\n",
       "          occupation   relationship   race     sex  capital-gain  \\\n",
       "0       Adm-clerical  Not-in-family  White    Male          2174   \n",
       "1    Exec-managerial        Husband  White    Male             0   \n",
       "2  Handlers-cleaners  Not-in-family  White    Male             0   \n",
       "3  Handlers-cleaners        Husband  Black    Male             0   \n",
       "4     Prof-specialty           Wife  Black  Female             0   \n",
       "\n",
       "   capital-loss  hours-per-week native-country Salary  \n",
       "0             0              40  United-States  <=50K  \n",
       "1             0              13  United-States  <=50K  \n",
       "2             0              40  United-States  <=50K  \n",
       "3             0              40  United-States  <=50K  \n",
       "4             0              40           Cuba  <=50K  "
      ]
     },
     "execution_count": 5,
     "metadata": {},
     "output_type": "execute_result"
    }
   ],
   "source": [
    "df.head()"
   ]
  },
  {
   "cell_type": "code",
   "execution_count": 3,
   "id": "5e92f91c",
   "metadata": {},
   "outputs": [],
   "source": [
    "workclass_ = pd.get_dummies(df['workclass'])\n",
    "marital_ = pd.get_dummies(df['marital-status'])\n",
    "occupation_ = pd.get_dummies(df['occupation'])\n",
    "relationship_ = pd.get_dummies(df['relationship'])\n",
    "race_ = pd.get_dummies(df['race'])\n",
    "sex_ = pd.get_dummies(df['sex'])\n",
    "country_ = pd.get_dummies(df['native-country'])\n",
    "edn_ = pd.get_dummies(df['education'])"
   ]
  },
  {
   "cell_type": "code",
   "execution_count": 8,
   "id": "5bd35bad",
   "metadata": {},
   "outputs": [
    {
     "name": "stdout",
     "output_type": "stream",
     "text": [
      "9\n",
      "4\n",
      "14\n",
      "6\n",
      "5\n",
      "2\n",
      "20\n",
      "7\n"
     ]
    }
   ],
   "source": [
    "for i in [workclass_, marital_, occupation_, relationship_, race_, sex_, country_, edn_]:\n",
    "    print(i.shape[1])"
   ]
  },
  {
   "cell_type": "code",
   "execution_count": 4,
   "id": "119a327c",
   "metadata": {},
   "outputs": [],
   "source": [
    "X = pd.concat([df[['age','capital-gain', 'hours-per-week']], workclass_ , marital_, occupation_, relationship_, race_, sex_, edn_, country_ ], axis=1)\n",
    "y = df['Salary']"
   ]
  },
  {
   "cell_type": "code",
   "execution_count": 5,
   "id": "4a00f560",
   "metadata": {},
   "outputs": [],
   "source": [
    "from sklearn.preprocessing import StandardScaler\n",
    "std = StandardScaler()\n",
    "X_temp = X.copy()\n",
    "X_temp['age'] = std.fit_transform(X_temp[['age']])"
   ]
  },
  {
   "cell_type": "code",
   "execution_count": 6,
   "id": "5b27e489",
   "metadata": {},
   "outputs": [],
   "source": [
    "from sklearn.decomposition import PCA\n",
    "pca = PCA(n_components=15)\n",
    "X_temp = pca.fit_transform(X_temp)"
   ]
  },
  {
   "cell_type": "code",
   "execution_count": 7,
   "id": "c6c27834",
   "metadata": {},
   "outputs": [],
   "source": [
    "from sklearn.model_selection import train_test_split\n",
    "X_train, X_test, y_train, y_test = train_test_split(X_temp, y, test_size=0.33, random_state=42)\n",
    "X_train, X_val, y_train, y_val = train_test_split(X_temp, y, test_size=0.05, random_state=42)"
   ]
  },
  {
   "cell_type": "code",
   "execution_count": 13,
   "id": "1bcb7490",
   "metadata": {},
   "outputs": [],
   "source": [
    "from sklearn.ensemble import RandomForestClassifier"
   ]
  },
  {
   "cell_type": "code",
   "execution_count": 26,
   "id": "d97c1797",
   "metadata": {},
   "outputs": [],
   "source": [
    "params = {\n",
    "    'n_estimators' : [100, 200, 500],\n",
    "    'max_depth' : [15, 20, 25, 30, 35]\n",
    "}"
   ]
  },
  {
   "cell_type": "code",
   "execution_count": 27,
   "id": "6c9bb49e",
   "metadata": {},
   "outputs": [],
   "source": [
    "from sklearn.model_selection import RandomizedSearchCV"
   ]
  },
  {
   "cell_type": "code",
   "execution_count": 28,
   "id": "64ab5b65",
   "metadata": {},
   "outputs": [],
   "source": [
    "rfc = RandomForestClassifier()\n",
    "rv = RandomizedSearchCV(rfc, params, n_iter=10, random_state=0)"
   ]
  },
  {
   "cell_type": "code",
   "execution_count": 29,
   "id": "2ce2ee5e",
   "metadata": {},
   "outputs": [
    {
     "data": {
      "text/plain": [
       "RandomizedSearchCV(estimator=RandomForestClassifier(),\n",
       "                   param_distributions={'max_depth': [15, 20, 25, 30, 35],\n",
       "                                        'n_estimators': [100, 200, 500]},\n",
       "                   random_state=0)"
      ]
     },
     "execution_count": 29,
     "metadata": {},
     "output_type": "execute_result"
    }
   ],
   "source": [
    "rv.fit(X_train, y_train)"
   ]
  },
  {
   "cell_type": "code",
   "execution_count": null,
   "id": "bcdbc03b",
   "metadata": {},
   "outputs": [],
   "source": []
  },
  {
   "cell_type": "code",
   "execution_count": 19,
   "id": "f24470ee",
   "metadata": {},
   "outputs": [
    {
     "data": {
      "text/plain": [
       "{'n_estimators': 500, 'max_depth': 15}"
      ]
     },
     "execution_count": 19,
     "metadata": {},
     "output_type": "execute_result"
    }
   ],
   "source": [
    "rv.best_params_"
   ]
  },
  {
   "cell_type": "code",
   "execution_count": 20,
   "id": "93e62ec0",
   "metadata": {},
   "outputs": [
    {
     "data": {
      "text/plain": [
       "0.8496058217037895"
      ]
     },
     "execution_count": 20,
     "metadata": {},
     "output_type": "execute_result"
    }
   ],
   "source": [
    "rv.best_score_"
   ]
  },
  {
   "cell_type": "code",
   "execution_count": 25,
   "id": "886b9232",
   "metadata": {},
   "outputs": [
    {
     "data": {
      "text/plain": [
       "{'mean_fit_time': array([ 51.45399823,  22.79665685, 111.12094798,  22.02633581,\n",
       "        108.82335229,  53.21935658, 100.01907153,  40.5466414 ,\n",
       "         43.14895043,  42.63263655]),\n",
       " 'std_fit_time': array([2.5995823 , 1.13111844, 3.16751228, 0.24785818, 2.7740222 ,\n",
       "        0.23691338, 0.534772  , 2.18192798, 3.53242973, 1.25154088]),\n",
       " 'mean_score_time': array([0.88924847, 0.38441401, 1.8667345 , 0.39136257, 1.8570734 ,\n",
       "        0.89265265, 1.62571645, 0.92212148, 0.7939384 , 0.68905196]),\n",
       " 'std_score_time': array([0.03326962, 0.02115214, 0.18699035, 0.0362549 , 0.01806717,\n",
       "        0.02797398, 0.04156559, 0.39770431, 0.13674326, 0.06097495]),\n",
       " 'param_n_estimators': masked_array(data=[500, 200, 1000, 200, 1000, 500, 1000, 500, 500, 500],\n",
       "              mask=[False, False, False, False, False, False, False, False,\n",
       "                    False, False],\n",
       "        fill_value='?',\n",
       "             dtype=object),\n",
       " 'param_max_depth': masked_array(data=[15, 25, 25, 35, 40, 20, 15, 40, 35, 25],\n",
       "              mask=[False, False, False, False, False, False, False, False,\n",
       "                    False, False],\n",
       "        fill_value='?',\n",
       "             dtype=object),\n",
       " 'params': [{'n_estimators': 500, 'max_depth': 15},\n",
       "  {'n_estimators': 200, 'max_depth': 25},\n",
       "  {'n_estimators': 1000, 'max_depth': 25},\n",
       "  {'n_estimators': 200, 'max_depth': 35},\n",
       "  {'n_estimators': 1000, 'max_depth': 40},\n",
       "  {'n_estimators': 500, 'max_depth': 20},\n",
       "  {'n_estimators': 1000, 'max_depth': 15},\n",
       "  {'n_estimators': 500, 'max_depth': 40},\n",
       "  {'n_estimators': 500, 'max_depth': 35},\n",
       "  {'n_estimators': 500, 'max_depth': 25}],\n",
       " 'split0_test_score': array([0.84612898, 0.8362696 , 0.83643123, 0.83449168, 0.83643123,\n",
       "        0.83820915, 0.84548246, 0.8362696 , 0.83562308, 0.83659286]),\n",
       " 'split1_test_score': array([0.84580572, 0.83546145, 0.83659286, 0.83529982, 0.83400679,\n",
       "        0.83837078, 0.84661387, 0.83675449, 0.83497656, 0.83756263]),\n",
       " 'split2_test_score': array([0.85354025, 0.84416424, 0.84529583, 0.84464921, 0.84464921,\n",
       "        0.84723569, 0.85257032, 0.84448755, 0.8443259 , 0.8457808 ]),\n",
       " 'split3_test_score': array([0.8490139 , 0.83430327, 0.83624313, 0.83414161, 0.83446492,\n",
       "        0.83866796, 0.84966052, 0.83543485, 0.83333333, 0.83365664]),\n",
       " 'split4_test_score': array([0.85354025, 0.84561914, 0.8457808 , 0.84367928, 0.84464921,\n",
       "        0.847559  , 0.8533786 , 0.84448755, 0.84367928, 0.84675073]),\n",
       " 'mean_test_score': array([0.84960582, 0.83916354, 0.84006877, 0.83845232, 0.83884027,\n",
       "        0.84200852, 0.84954115, 0.83948681, 0.83838763, 0.84006873]),\n",
       " 'std_test_score': array([0.00340115, 0.00474098, 0.00446987, 0.00468892, 0.00481243,\n",
       "        0.00440361, 0.00312915, 0.00410486, 0.00464948, 0.0052298 ]),\n",
       " 'rank_test_score': array([ 1,  7,  4,  9,  8,  3,  2,  6, 10,  5])}"
      ]
     },
     "execution_count": 25,
     "metadata": {},
     "output_type": "execute_result"
    }
   ],
   "source": [
    "rv.cv_results_"
   ]
  },
  {
   "cell_type": "code",
   "execution_count": 30,
   "id": "1fce8ac4",
   "metadata": {},
   "outputs": [
    {
     "data": {
      "text/plain": [
       "{'n_estimators': 500, 'max_depth': 15}"
      ]
     },
     "execution_count": 30,
     "metadata": {},
     "output_type": "execute_result"
    }
   ],
   "source": [
    "rv.best_params_"
   ]
  },
  {
   "cell_type": "code",
   "execution_count": 31,
   "id": "989b4318",
   "metadata": {},
   "outputs": [
    {
     "data": {
      "text/plain": [
       "0.8500907145971255"
      ]
     },
     "execution_count": 31,
     "metadata": {},
     "output_type": "execute_result"
    }
   ],
   "source": [
    "rv.best_score_"
   ]
  },
  {
   "cell_type": "code",
   "execution_count": null,
   "id": "a032e351",
   "metadata": {},
   "outputs": [],
   "source": []
  },
  {
   "cell_type": "code",
   "execution_count": 21,
   "id": "a09ef5a1",
   "metadata": {},
   "outputs": [
    {
     "name": "stdout",
     "output_type": "stream",
     "text": [
      "[[7915  281]\n",
      " [ 582 1968]] \n",
      "\n",
      "              precision    recall  f1-score   support\n",
      "\n",
      "       <=50K       0.93      0.97      0.95      8196\n",
      "        >50K       0.88      0.77      0.82      2550\n",
      "\n",
      "    accuracy                           0.92     10746\n",
      "   macro avg       0.90      0.87      0.88     10746\n",
      "weighted avg       0.92      0.92      0.92     10746\n",
      " \n",
      "\n",
      "0.9196910478317514\n"
     ]
    }
   ],
   "source": [
    "from sklearn.metrics import classification_report, confusion_matrix, accuracy_score\n",
    "pred_rfc = rv.predict(X_test)\n",
    "print(confusion_matrix(y_test, pred_rfc), \"\\n\")\n",
    "print(classification_report(y_test, pred_rfc), \"\\n\")\n",
    "print(accuracy_score(y_test, pred_rfc))"
   ]
  },
  {
   "cell_type": "code",
   "execution_count": 32,
   "id": "255c3db6",
   "metadata": {},
   "outputs": [
    {
     "name": "stdout",
     "output_type": "stream",
     "text": [
      "[[7930  266]\n",
      " [ 572 1978]] \n",
      "\n",
      "              precision    recall  f1-score   support\n",
      "\n",
      "       <=50K       0.93      0.97      0.95      8196\n",
      "        >50K       0.88      0.78      0.83      2550\n",
      "\n",
      "    accuracy                           0.92     10746\n",
      "   macro avg       0.91      0.87      0.89     10746\n",
      "weighted avg       0.92      0.92      0.92     10746\n",
      " \n",
      "\n",
      "0.9220174948818165\n"
     ]
    }
   ],
   "source": [
    "pred_rfc = rv.predict(X_test)\n",
    "print(confusion_matrix(y_test, pred_rfc), \"\\n\")\n",
    "print(classification_report(y_test, pred_rfc), \"\\n\")\n",
    "print(accuracy_score(y_test, pred_rfc))"
   ]
  },
  {
   "cell_type": "code",
   "execution_count": null,
   "id": "484acc58",
   "metadata": {},
   "outputs": [],
   "source": []
  },
  {
   "cell_type": "code",
   "execution_count": 8,
   "id": "0838f0f7",
   "metadata": {},
   "outputs": [],
   "source": [
    "from joblib import load, dump"
   ]
  },
  {
   "cell_type": "code",
   "execution_count": 33,
   "id": "b619daa7",
   "metadata": {},
   "outputs": [
    {
     "data": {
      "text/plain": [
       "['RandomForestModel.joblib']"
      ]
     },
     "execution_count": 33,
     "metadata": {},
     "output_type": "execute_result"
    }
   ],
   "source": [
    "dump(rv, 'RandomForestModel.joblib')"
   ]
  },
  {
   "cell_type": "code",
   "execution_count": 9,
   "id": "77fe88eb",
   "metadata": {},
   "outputs": [],
   "source": [
    "model = load('RandomForestModel.joblib')"
   ]
  },
  {
   "cell_type": "code",
   "execution_count": 10,
   "id": "e1bd35be",
   "metadata": {},
   "outputs": [],
   "source": [
    "y_predicted = model.predict(X_test)"
   ]
  },
  {
   "cell_type": "code",
   "execution_count": 17,
   "id": "69a0582a",
   "metadata": {},
   "outputs": [],
   "source": [
    "from sklearn.metrics import roc_auc_score, roc_curve, plot_roc_curve, auc"
   ]
  },
  {
   "cell_type": "code",
   "execution_count": 13,
   "id": "c653f012",
   "metadata": {},
   "outputs": [
    {
     "data": {
      "text/plain": [
       "<sklearn.metrics._plot.roc_curve.RocCurveDisplay at 0x25126d512e0>"
      ]
     },
     "execution_count": 13,
     "metadata": {},
     "output_type": "execute_result"
    },
    {
     "data": {
      "image/png": "[encoded data removed]",
      "text/plain": [
       "<Figure size 432x288 with 1 Axes>"
      ]
     },
     "metadata": {},
     "output_type": "display_data"
    }
   ],
   "source": [
    "plot_roc_curve(model, X_val, y_val)"
   ]
  },
  {
   "cell_type": "code",
   "execution_count": 21,
   "id": "2a1e6369",
   "metadata": {},
   "outputs": [
    {
     "data": {
      "text/plain": [
       "<sklearn.metrics._plot.roc_curve.RocCurveDisplay at 0x2512698bcd0>"
      ]
     },
     "execution_count": 21,
     "metadata": {},
     "output_type": "execute_result"
    },
    {
     "data": {
      "image/png": "[encoded data removed]",
      "text/plain": [
       "<Figure size 432x288 with 1 Axes>"
      ]
     },
     "metadata": {},
     "output_type": "display_data"
    }
   ],
   "source": [
    "plot_roc_curve(model, X_test, y_test)"
   ]
  },
  {
   "cell_type": "code",
   "execution_count": 14,
   "id": "d2942e49",
   "metadata": {},
   "outputs": [],
   "source": [
    "y_true = np.where(y_test==\">50K\", 1, 0)\n",
    "y_score = np.where(y_predicted==\">50K\", 1, 0)"
   ]
  },
  {
   "cell_type": "code",
   "execution_count": 15,
   "id": "e9026274",
   "metadata": {},
   "outputs": [
    {
     "data": {
      "text/plain": [
       "0.8549533488358739"
      ]
     },
     "execution_count": 15,
     "metadata": {},
     "output_type": "execute_result"
    }
   ],
   "source": [
    "roc_auc_score(y_true, y_score)"
   ]
  },
  {
   "cell_type": "code",
   "execution_count": 18,
   "id": "b4af6417",
   "metadata": {},
   "outputs": [],
   "source": [
    "n_classes = 2\n",
    "\n",
    "fpr = dict()\n",
    "tpr = dict()\n",
    "roc_auc = dict()\n",
    "for i in range(n_classes):\n",
    "    fpr[i], tpr[i], _ = roc_curve(y_true==i, y_score==i)\n",
    "    roc_auc[i] = auc(fpr[i], tpr[i])\n",
    "\n",
    "# Compute micro-average ROC curve and ROC area\n",
    "fpr[\"micro\"], tpr[\"micro\"], _ = roc_curve(y_true.ravel(), y_score.ravel())\n",
    "roc_auc[\"micro\"] = auc(fpr[\"micro\"], tpr[\"micro\"])"
   ]
  },
  {
   "cell_type": "code",
   "execution_count": 23,
   "id": "934fc327",
   "metadata": {},
   "outputs": [
    {
     "data": {
      "image/png": "[encoded data removed]",
      "text/plain": [
       "<Figure size 864x432 with 2 Axes>"
      ]
     },
     "metadata": {},
     "output_type": "display_data"
    }
   ],
   "source": [
    "plt.figure(figsize=(12,6))\n",
    "lw = 2\n",
    "\n",
    "plt.subplot(1,2,1)\n",
    "plt.plot(fpr[1], tpr[1], color='darkorange',\n",
    "         lw=lw, label='ROC curve (area = %0.2f)' % roc_auc[1])\n",
    "plt.plot([0, 1], [0, 1], color='navy', lw=lw, linestyle='--')\n",
    "plt.xlim([0.0, 1.0])\n",
    "plt.ylim([0.0, 1.05])\n",
    "plt.xlabel('False Positive Rate')\n",
    "plt.ylabel('True Positive Rate')\n",
    "plt.title('Receiver operating characteristic for Salary = \">50K\"')\n",
    "plt.legend(loc=\"lower right\")\n",
    "\n",
    "plt.subplot(1,2,2)\n",
    "plt.plot(fpr[0], tpr[0], color='darkorange',\n",
    "         lw=lw, label='ROC curve (area = %0.2f)' % roc_auc[0])\n",
    "plt.plot([0, 1], [0, 1], color='navy', lw=lw, linestyle='--')\n",
    "plt.xlim([0.0, 1.0])\n",
    "plt.ylim([0.0, 1.05])\n",
    "plt.xlabel('False Positive Rate')\n",
    "plt.ylabel('True Positive Rate')\n",
    "plt.title('Receiver operating characteristic for Salary = \"<=50K\"')\n",
    "plt.legend(loc=\"lower right\")\n",
    "\n",
    "\n",
    "plt.show()"
   ]
  },
  {
   "cell_type": "code",
   "execution_count": null,
   "id": "79055f38",
   "metadata": {},
   "outputs": [],
   "source": []
  }
 ],
 "metadata": {
  "kernelspec": {
   "display_name": "Python 3",
   "language": "python",
   "name": "python3"
  },
  "language_info": {
   "codemirror_mode": {
    "name": "ipython",
    "version": 3
   },
   "file_extension": ".py",
   "mimetype": "text/x-python",
   "name": "python",
   "nbconvert_exporter": "python",
   "pygments_lexer": "ipython3",
   "version": "3.8.3"
  }
 },
 "nbformat": 4,
 "nbformat_minor": 5
}
