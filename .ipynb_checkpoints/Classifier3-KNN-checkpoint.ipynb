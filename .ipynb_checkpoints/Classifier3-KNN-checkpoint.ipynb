{
 "cells": [
  {
   "cell_type": "code",
   "execution_count": 1,
   "id": "4ef24e63",
   "metadata": {},
   "outputs": [],
   "source": [
    "import numpy as np\n",
    "import pandas as pd\n",
    "import matplotlib.pyplot as plt\n",
    "import seaborn as sns\n",
    "%matplotlib inline\n",
    "sns.set_style('darkgrid')"
   ]
  },
  {
   "cell_type": "code",
   "execution_count": 2,
   "id": "6b6dc5c1",
   "metadata": {},
   "outputs": [],
   "source": [
    "df = pd.read_csv('AdultDataCleared.csv', index_col=0)"
   ]
  },
  {
   "cell_type": "code",
   "execution_count": 3,
   "id": "c8d39fa6",
   "metadata": {},
   "outputs": [
    {
     "data": {
      "text/html": [
       "<div>\n",
       "<style scoped>\n",
       "    .dataframe tbody tr th:only-of-type {\n",
       "        vertical-align: middle;\n",
       "    }\n",
       "\n",
       "    .dataframe tbody tr th {\n",
       "        vertical-align: top;\n",
       "    }\n",
       "\n",
       "    .dataframe thead th {\n",
       "        text-align: right;\n",
       "    }\n",
       "</style>\n",
       "<table border=\"1\" class=\"dataframe\">\n",
       "  <thead>\n",
       "    <tr style=\"text-align: right;\">\n",
       "      <th></th>\n",
       "      <th>age</th>\n",
       "      <th>workclass</th>\n",
       "      <th>fnlwgt</th>\n",
       "      <th>education</th>\n",
       "      <th>education-num</th>\n",
       "      <th>marital-status</th>\n",
       "      <th>occupation</th>\n",
       "      <th>relationship</th>\n",
       "      <th>race</th>\n",
       "      <th>sex</th>\n",
       "      <th>capital-gain</th>\n",
       "      <th>capital-loss</th>\n",
       "      <th>hours-per-week</th>\n",
       "      <th>native-country</th>\n",
       "      <th>Salary</th>\n",
       "    </tr>\n",
       "  </thead>\n",
       "  <tbody>\n",
       "    <tr>\n",
       "      <th>0</th>\n",
       "      <td>39</td>\n",
       "      <td>State-gov</td>\n",
       "      <td>77516</td>\n",
       "      <td>Bachelors</td>\n",
       "      <td>13</td>\n",
       "      <td>Never-married</td>\n",
       "      <td>Adm-clerical</td>\n",
       "      <td>Not-in-family</td>\n",
       "      <td>White</td>\n",
       "      <td>Male</td>\n",
       "      <td>2174</td>\n",
       "      <td>0</td>\n",
       "      <td>40</td>\n",
       "      <td>United-States</td>\n",
       "      <td>&lt;=50K</td>\n",
       "    </tr>\n",
       "    <tr>\n",
       "      <th>1</th>\n",
       "      <td>50</td>\n",
       "      <td>Self-emp-not-inc</td>\n",
       "      <td>83311</td>\n",
       "      <td>Bachelors</td>\n",
       "      <td>13</td>\n",
       "      <td>Married</td>\n",
       "      <td>Exec-managerial</td>\n",
       "      <td>Husband</td>\n",
       "      <td>White</td>\n",
       "      <td>Male</td>\n",
       "      <td>0</td>\n",
       "      <td>0</td>\n",
       "      <td>13</td>\n",
       "      <td>United-States</td>\n",
       "      <td>&lt;=50K</td>\n",
       "    </tr>\n",
       "    <tr>\n",
       "      <th>2</th>\n",
       "      <td>38</td>\n",
       "      <td>Private</td>\n",
       "      <td>215646</td>\n",
       "      <td>High School</td>\n",
       "      <td>9</td>\n",
       "      <td>Divorced</td>\n",
       "      <td>Handlers-cleaners</td>\n",
       "      <td>Not-in-family</td>\n",
       "      <td>White</td>\n",
       "      <td>Male</td>\n",
       "      <td>0</td>\n",
       "      <td>0</td>\n",
       "      <td>40</td>\n",
       "      <td>United-States</td>\n",
       "      <td>&lt;=50K</td>\n",
       "    </tr>\n",
       "    <tr>\n",
       "      <th>3</th>\n",
       "      <td>53</td>\n",
       "      <td>Private</td>\n",
       "      <td>234721</td>\n",
       "      <td>Compulsory</td>\n",
       "      <td>7</td>\n",
       "      <td>Married</td>\n",
       "      <td>Handlers-cleaners</td>\n",
       "      <td>Husband</td>\n",
       "      <td>Black</td>\n",
       "      <td>Male</td>\n",
       "      <td>0</td>\n",
       "      <td>0</td>\n",
       "      <td>40</td>\n",
       "      <td>United-States</td>\n",
       "      <td>&lt;=50K</td>\n",
       "    </tr>\n",
       "    <tr>\n",
       "      <th>4</th>\n",
       "      <td>28</td>\n",
       "      <td>Private</td>\n",
       "      <td>338409</td>\n",
       "      <td>Bachelors</td>\n",
       "      <td>13</td>\n",
       "      <td>Married</td>\n",
       "      <td>Prof-specialty</td>\n",
       "      <td>Wife</td>\n",
       "      <td>Black</td>\n",
       "      <td>Female</td>\n",
       "      <td>0</td>\n",
       "      <td>0</td>\n",
       "      <td>40</td>\n",
       "      <td>Cuba</td>\n",
       "      <td>&lt;=50K</td>\n",
       "    </tr>\n",
       "  </tbody>\n",
       "</table>\n",
       "</div>"
      ],
      "text/plain": [
       "   age         workclass  fnlwgt    education  education-num marital-status  \\\n",
       "0   39         State-gov   77516    Bachelors             13  Never-married   \n",
       "1   50  Self-emp-not-inc   83311    Bachelors             13        Married   \n",
       "2   38           Private  215646  High School              9       Divorced   \n",
       "3   53           Private  234721   Compulsory              7        Married   \n",
       "4   28           Private  338409    Bachelors             13        Married   \n",
       "\n",
       "          occupation   relationship   race     sex  capital-gain  \\\n",
       "0       Adm-clerical  Not-in-family  White    Male          2174   \n",
       "1    Exec-managerial        Husband  White    Male             0   \n",
       "2  Handlers-cleaners  Not-in-family  White    Male             0   \n",
       "3  Handlers-cleaners        Husband  Black    Male             0   \n",
       "4     Prof-specialty           Wife  Black  Female             0   \n",
       "\n",
       "   capital-loss  hours-per-week native-country Salary  \n",
       "0             0              40  United-States  <=50K  \n",
       "1             0              13  United-States  <=50K  \n",
       "2             0              40  United-States  <=50K  \n",
       "3             0              40  United-States  <=50K  \n",
       "4             0              40           Cuba  <=50K  "
      ]
     },
     "execution_count": 3,
     "metadata": {},
     "output_type": "execute_result"
    }
   ],
   "source": [
    "df.head()"
   ]
  },
  {
   "cell_type": "code",
   "execution_count": 7,
   "id": "5e92f91c",
   "metadata": {},
   "outputs": [],
   "source": [
    "workclass_ = pd.get_dummies(df['workclass'])\n",
    "marital_ = pd.get_dummies(df['marital-status'])\n",
    "occupation_ = pd.get_dummies(df['occupation'])\n",
    "relationship_ = pd.get_dummies(df['relationship'])\n",
    "race_ = pd.get_dummies(df['race'])\n",
    "sex_ = pd.get_dummies(df['sex'])\n",
    "country_ = pd.get_dummies(df['native-country'])\n",
    "edn_ = pd.get_dummies(df['education'])"
   ]
  },
  {
   "cell_type": "code",
   "execution_count": 8,
   "id": "5bd35bad",
   "metadata": {},
   "outputs": [
    {
     "name": "stdout",
     "output_type": "stream",
     "text": [
      "9\n",
      "4\n",
      "14\n",
      "6\n",
      "5\n",
      "2\n",
      "15\n",
      "7\n"
     ]
    }
   ],
   "source": [
    "for i in [workclass_, marital_, occupation_, relationship_, race_, sex_, country_, edn_]:\n",
    "    print(i.shape[1])"
   ]
  },
  {
   "cell_type": "code",
   "execution_count": 9,
   "id": "119a327c",
   "metadata": {},
   "outputs": [],
   "source": [
    "X = pd.concat([df[['age','capital-gain', 'hours-per-week']], workclass_ , marital_, occupation_, relationship_, race_, sex_, edn_, country_ ], axis=1)\n",
    "y = df['Salary']"
   ]
  },
  {
   "cell_type": "code",
   "execution_count": 10,
   "id": "4a00f560",
   "metadata": {},
   "outputs": [],
   "source": [
    "from sklearn.preprocessing import StandardScaler\n",
    "std = StandardScaler()\n",
    "X_temp = X.copy()\n",
    "X_temp['age'] = std.fit_transform(X_temp[['age']])"
   ]
  },
  {
   "cell_type": "code",
   "execution_count": 11,
   "id": "5b27e489",
   "metadata": {},
   "outputs": [],
   "source": [
    "from sklearn.decomposition import PCA\n",
    "pca = PCA(n_components=15)\n",
    "X_temp = pca.fit_transform(X_temp)"
   ]
  },
  {
   "cell_type": "code",
   "execution_count": 12,
   "id": "c6c27834",
   "metadata": {},
   "outputs": [],
   "source": [
    "from sklearn.model_selection import train_test_split\n",
    "X_train, X_test, y_train, y_test = train_test_split(X_temp, y, test_size=0.33, random_state=42)\n",
    "X_train, X_val, y_train, y_val = train_test_split(X_temp, y, test_size=0.05, random_state=42)"
   ]
  },
  {
   "cell_type": "code",
   "execution_count": 13,
   "id": "1bcb7490",
   "metadata": {},
   "outputs": [],
   "source": [
    "from sklearn.ensemble import AdaBoostClassifier"
   ]
  },
  {
   "cell_type": "code",
   "execution_count": 14,
   "id": "d97c1797",
   "metadata": {},
   "outputs": [],
   "source": [
    "params = {\n",
    "    'n_estimators' : [100, 200, 500],\n",
    "    'learning_rate' : [0.01, 0.1, 1, 10, 100]\n",
    "}"
   ]
  },
  {
   "cell_type": "code",
   "execution_count": 15,
   "id": "6c9bb49e",
   "metadata": {},
   "outputs": [],
   "source": [
    "from sklearn.model_selection import RandomizedSearchCV"
   ]
  },
  {
   "cell_type": "code",
   "execution_count": 16,
   "id": "64ab5b65",
   "metadata": {},
   "outputs": [],
   "source": [
    "ada = AdaBoostClassifier()\n",
    "rv = RandomizedSearchCV(ada, params, n_iter=15, random_state=0)"
   ]
  },
  {
   "cell_type": "code",
   "execution_count": 17,
   "id": "2ce2ee5e",
   "metadata": {},
   "outputs": [
    {
     "name": "stderr",
     "output_type": "stream",
     "text": [
      "C:\\Users\\91836\\Anaconda3\\lib\\site-packages\\sklearn\\ensemble\\_weight_boosting.py:561: RuntimeWarning: overflow encountered in exp\n",
      "  sample_weight *= np.exp(estimator_weight *\n",
      "C:\\Users\\91836\\Anaconda3\\lib\\site-packages\\sklearn\\ensemble\\_weight_boosting.py:155: RuntimeWarning: invalid value encountered in true_divide\n",
      "  sample_weight /= sample_weight_sum\n",
      "C:\\Users\\91836\\Anaconda3\\lib\\site-packages\\sklearn\\model_selection\\_validation.py:615: FitFailedWarning: Estimator fit failed. The score on this train-test partition for these parameters will be set to nan. Details: \n",
      "Traceback (most recent call last):\n",
      "  File \"C:\\Users\\91836\\Anaconda3\\lib\\site-packages\\sklearn\\model_selection\\_validation.py\", line 598, in _fit_and_score\n",
      "    estimator.fit(X_train, y_train, **fit_params)\n",
      "  File \"C:\\Users\\91836\\Anaconda3\\lib\\site-packages\\sklearn\\ensemble\\_weight_boosting.py\", line 443, in fit\n",
      "    return super().fit(X, y, sample_weight)\n",
      "  File \"C:\\Users\\91836\\Anaconda3\\lib\\site-packages\\sklearn\\ensemble\\_weight_boosting.py\", line 130, in fit\n",
      "    sample_weight, estimator_weight, estimator_error = self._boost(\n",
      "  File \"C:\\Users\\91836\\Anaconda3\\lib\\site-packages\\sklearn\\ensemble\\_weight_boosting.py\", line 503, in _boost\n",
      "    return self._boost_real(iboost, X, y, sample_weight, random_state)\n",
      "  File \"C:\\Users\\91836\\Anaconda3\\lib\\site-packages\\sklearn\\ensemble\\_weight_boosting.py\", line 513, in _boost_real\n",
      "    estimator.fit(X, y, sample_weight=sample_weight)\n",
      "  File \"C:\\Users\\91836\\Anaconda3\\lib\\site-packages\\sklearn\\tree\\_classes.py\", line 903, in fit\n",
      "    super().fit(\n",
      "  File \"C:\\Users\\91836\\Anaconda3\\lib\\site-packages\\sklearn\\tree\\_classes.py\", line 298, in fit\n",
      "    sample_weight = _check_sample_weight(sample_weight, X, DOUBLE)\n",
      "  File \"C:\\Users\\91836\\Anaconda3\\lib\\site-packages\\sklearn\\utils\\validation.py\", line 1376, in _check_sample_weight\n",
      "    sample_weight = check_array(\n",
      "  File \"C:\\Users\\91836\\Anaconda3\\lib\\site-packages\\sklearn\\utils\\validation.py\", line 63, in inner_f\n",
      "    return f(*args, **kwargs)\n",
      "  File \"C:\\Users\\91836\\Anaconda3\\lib\\site-packages\\sklearn\\utils\\validation.py\", line 720, in check_array\n",
      "    _assert_all_finite(array,\n",
      "  File \"C:\\Users\\91836\\Anaconda3\\lib\\site-packages\\sklearn\\utils\\validation.py\", line 103, in _assert_all_finite\n",
      "    raise ValueError(\n",
      "ValueError: Input contains NaN, infinity or a value too large for dtype('float64').\n",
      "\n",
      "  warnings.warn(\"Estimator fit failed. The score on this train-test\"\n",
      "C:\\Users\\91836\\Anaconda3\\lib\\site-packages\\sklearn\\ensemble\\_weight_boosting.py:561: RuntimeWarning: overflow encountered in exp\n",
      "  sample_weight *= np.exp(estimator_weight *\n",
      "C:\\Users\\91836\\Anaconda3\\lib\\site-packages\\sklearn\\ensemble\\_weight_boosting.py:155: RuntimeWarning: invalid value encountered in true_divide\n",
      "  sample_weight /= sample_weight_sum\n",
      "C:\\Users\\91836\\Anaconda3\\lib\\site-packages\\sklearn\\model_selection\\_validation.py:615: FitFailedWarning: Estimator fit failed. The score on this train-test partition for these parameters will be set to nan. Details: \n",
      "Traceback (most recent call last):\n",
      "  File \"C:\\Users\\91836\\Anaconda3\\lib\\site-packages\\sklearn\\model_selection\\_validation.py\", line 598, in _fit_and_score\n",
      "    estimator.fit(X_train, y_train, **fit_params)\n",
      "  File \"C:\\Users\\91836\\Anaconda3\\lib\\site-packages\\sklearn\\ensemble\\_weight_boosting.py\", line 443, in fit\n",
      "    return super().fit(X, y, sample_weight)\n",
      "  File \"C:\\Users\\91836\\Anaconda3\\lib\\site-packages\\sklearn\\ensemble\\_weight_boosting.py\", line 130, in fit\n",
      "    sample_weight, estimator_weight, estimator_error = self._boost(\n",
      "  File \"C:\\Users\\91836\\Anaconda3\\lib\\site-packages\\sklearn\\ensemble\\_weight_boosting.py\", line 503, in _boost\n",
      "    return self._boost_real(iboost, X, y, sample_weight, random_state)\n",
      "  File \"C:\\Users\\91836\\Anaconda3\\lib\\site-packages\\sklearn\\ensemble\\_weight_boosting.py\", line 513, in _boost_real\n",
      "    estimator.fit(X, y, sample_weight=sample_weight)\n",
      "  File \"C:\\Users\\91836\\Anaconda3\\lib\\site-packages\\sklearn\\tree\\_classes.py\", line 903, in fit\n",
      "    super().fit(\n",
      "  File \"C:\\Users\\91836\\Anaconda3\\lib\\site-packages\\sklearn\\tree\\_classes.py\", line 298, in fit\n",
      "    sample_weight = _check_sample_weight(sample_weight, X, DOUBLE)\n",
      "  File \"C:\\Users\\91836\\Anaconda3\\lib\\site-packages\\sklearn\\utils\\validation.py\", line 1376, in _check_sample_weight\n",
      "    sample_weight = check_array(\n",
      "  File \"C:\\Users\\91836\\Anaconda3\\lib\\site-packages\\sklearn\\utils\\validation.py\", line 63, in inner_f\n",
      "    return f(*args, **kwargs)\n",
      "  File \"C:\\Users\\91836\\Anaconda3\\lib\\site-packages\\sklearn\\utils\\validation.py\", line 720, in check_array\n",
      "    _assert_all_finite(array,\n",
      "  File \"C:\\Users\\91836\\Anaconda3\\lib\\site-packages\\sklearn\\utils\\validation.py\", line 103, in _assert_all_finite\n",
      "    raise ValueError(\n",
      "ValueError: Input contains NaN, infinity or a value too large for dtype('float64').\n",
      "\n",
      "  warnings.warn(\"Estimator fit failed. The score on this train-test\"\n",
      "C:\\Users\\91836\\Anaconda3\\lib\\site-packages\\sklearn\\ensemble\\_weight_boosting.py:561: RuntimeWarning: overflow encountered in exp\n",
      "  sample_weight *= np.exp(estimator_weight *\n",
      "C:\\Users\\91836\\Anaconda3\\lib\\site-packages\\sklearn\\ensemble\\_weight_boosting.py:155: RuntimeWarning: invalid value encountered in true_divide\n",
      "  sample_weight /= sample_weight_sum\n",
      "C:\\Users\\91836\\Anaconda3\\lib\\site-packages\\sklearn\\model_selection\\_validation.py:615: FitFailedWarning: Estimator fit failed. The score on this train-test partition for these parameters will be set to nan. Details: \n",
      "Traceback (most recent call last):\n",
      "  File \"C:\\Users\\91836\\Anaconda3\\lib\\site-packages\\sklearn\\model_selection\\_validation.py\", line 598, in _fit_and_score\n",
      "    estimator.fit(X_train, y_train, **fit_params)\n",
      "  File \"C:\\Users\\91836\\Anaconda3\\lib\\site-packages\\sklearn\\ensemble\\_weight_boosting.py\", line 443, in fit\n",
      "    return super().fit(X, y, sample_weight)\n",
      "  File \"C:\\Users\\91836\\Anaconda3\\lib\\site-packages\\sklearn\\ensemble\\_weight_boosting.py\", line 130, in fit\n",
      "    sample_weight, estimator_weight, estimator_error = self._boost(\n",
      "  File \"C:\\Users\\91836\\Anaconda3\\lib\\site-packages\\sklearn\\ensemble\\_weight_boosting.py\", line 503, in _boost\n",
      "    return self._boost_real(iboost, X, y, sample_weight, random_state)\n",
      "  File \"C:\\Users\\91836\\Anaconda3\\lib\\site-packages\\sklearn\\ensemble\\_weight_boosting.py\", line 513, in _boost_real\n",
      "    estimator.fit(X, y, sample_weight=sample_weight)\n",
      "  File \"C:\\Users\\91836\\Anaconda3\\lib\\site-packages\\sklearn\\tree\\_classes.py\", line 903, in fit\n",
      "    super().fit(\n",
      "  File \"C:\\Users\\91836\\Anaconda3\\lib\\site-packages\\sklearn\\tree\\_classes.py\", line 298, in fit\n",
      "    sample_weight = _check_sample_weight(sample_weight, X, DOUBLE)\n",
      "  File \"C:\\Users\\91836\\Anaconda3\\lib\\site-packages\\sklearn\\utils\\validation.py\", line 1376, in _check_sample_weight\n",
      "    sample_weight = check_array(\n",
      "  File \"C:\\Users\\91836\\Anaconda3\\lib\\site-packages\\sklearn\\utils\\validation.py\", line 63, in inner_f\n",
      "    return f(*args, **kwargs)\n",
      "  File \"C:\\Users\\91836\\Anaconda3\\lib\\site-packages\\sklearn\\utils\\validation.py\", line 720, in check_array\n",
      "    _assert_all_finite(array,\n",
      "  File \"C:\\Users\\91836\\Anaconda3\\lib\\site-packages\\sklearn\\utils\\validation.py\", line 103, in _assert_all_finite\n",
      "    raise ValueError(\n",
      "ValueError: Input contains NaN, infinity or a value too large for dtype('float64').\n",
      "\n",
      "  warnings.warn(\"Estimator fit failed. The score on this train-test\"\n",
      "C:\\Users\\91836\\Anaconda3\\lib\\site-packages\\sklearn\\ensemble\\_weight_boosting.py:561: RuntimeWarning: overflow encountered in exp\n",
      "  sample_weight *= np.exp(estimator_weight *\n",
      "C:\\Users\\91836\\Anaconda3\\lib\\site-packages\\sklearn\\ensemble\\_weight_boosting.py:155: RuntimeWarning: invalid value encountered in true_divide\n",
      "  sample_weight /= sample_weight_sum\n",
      "C:\\Users\\91836\\Anaconda3\\lib\\site-packages\\sklearn\\model_selection\\_validation.py:615: FitFailedWarning: Estimator fit failed. The score on this train-test partition for these parameters will be set to nan. Details: \n",
      "Traceback (most recent call last):\n",
      "  File \"C:\\Users\\91836\\Anaconda3\\lib\\site-packages\\sklearn\\model_selection\\_validation.py\", line 598, in _fit_and_score\n",
      "    estimator.fit(X_train, y_train, **fit_params)\n",
      "  File \"C:\\Users\\91836\\Anaconda3\\lib\\site-packages\\sklearn\\ensemble\\_weight_boosting.py\", line 443, in fit\n",
      "    return super().fit(X, y, sample_weight)\n",
      "  File \"C:\\Users\\91836\\Anaconda3\\lib\\site-packages\\sklearn\\ensemble\\_weight_boosting.py\", line 130, in fit\n",
      "    sample_weight, estimator_weight, estimator_error = self._boost(\n",
      "  File \"C:\\Users\\91836\\Anaconda3\\lib\\site-packages\\sklearn\\ensemble\\_weight_boosting.py\", line 503, in _boost\n",
      "    return self._boost_real(iboost, X, y, sample_weight, random_state)\n",
      "  File \"C:\\Users\\91836\\Anaconda3\\lib\\site-packages\\sklearn\\ensemble\\_weight_boosting.py\", line 513, in _boost_real\n",
      "    estimator.fit(X, y, sample_weight=sample_weight)\n",
      "  File \"C:\\Users\\91836\\Anaconda3\\lib\\site-packages\\sklearn\\tree\\_classes.py\", line 903, in fit\n",
      "    super().fit(\n",
      "  File \"C:\\Users\\91836\\Anaconda3\\lib\\site-packages\\sklearn\\tree\\_classes.py\", line 298, in fit\n",
      "    sample_weight = _check_sample_weight(sample_weight, X, DOUBLE)\n",
      "  File \"C:\\Users\\91836\\Anaconda3\\lib\\site-packages\\sklearn\\utils\\validation.py\", line 1376, in _check_sample_weight\n",
      "    sample_weight = check_array(\n",
      "  File \"C:\\Users\\91836\\Anaconda3\\lib\\site-packages\\sklearn\\utils\\validation.py\", line 63, in inner_f\n",
      "    return f(*args, **kwargs)\n",
      "  File \"C:\\Users\\91836\\Anaconda3\\lib\\site-packages\\sklearn\\utils\\validation.py\", line 720, in check_array\n",
      "    _assert_all_finite(array,\n",
      "  File \"C:\\Users\\91836\\Anaconda3\\lib\\site-packages\\sklearn\\utils\\validation.py\", line 103, in _assert_all_finite\n",
      "    raise ValueError(\n",
      "ValueError: Input contains NaN, infinity or a value too large for dtype('float64').\n",
      "\n",
      "  warnings.warn(\"Estimator fit failed. The score on this train-test\"\n"
     ]
    },
    {
     "name": "stderr",
     "output_type": "stream",
     "text": [
      "C:\\Users\\91836\\Anaconda3\\lib\\site-packages\\sklearn\\ensemble\\_weight_boosting.py:561: RuntimeWarning: overflow encountered in exp\n",
      "  sample_weight *= np.exp(estimator_weight *\n",
      "C:\\Users\\91836\\Anaconda3\\lib\\site-packages\\sklearn\\ensemble\\_weight_boosting.py:155: RuntimeWarning: invalid value encountered in true_divide\n",
      "  sample_weight /= sample_weight_sum\n",
      "C:\\Users\\91836\\Anaconda3\\lib\\site-packages\\sklearn\\model_selection\\_validation.py:615: FitFailedWarning: Estimator fit failed. The score on this train-test partition for these parameters will be set to nan. Details: \n",
      "Traceback (most recent call last):\n",
      "  File \"C:\\Users\\91836\\Anaconda3\\lib\\site-packages\\sklearn\\model_selection\\_validation.py\", line 598, in _fit_and_score\n",
      "    estimator.fit(X_train, y_train, **fit_params)\n",
      "  File \"C:\\Users\\91836\\Anaconda3\\lib\\site-packages\\sklearn\\ensemble\\_weight_boosting.py\", line 443, in fit\n",
      "    return super().fit(X, y, sample_weight)\n",
      "  File \"C:\\Users\\91836\\Anaconda3\\lib\\site-packages\\sklearn\\ensemble\\_weight_boosting.py\", line 130, in fit\n",
      "    sample_weight, estimator_weight, estimator_error = self._boost(\n",
      "  File \"C:\\Users\\91836\\Anaconda3\\lib\\site-packages\\sklearn\\ensemble\\_weight_boosting.py\", line 503, in _boost\n",
      "    return self._boost_real(iboost, X, y, sample_weight, random_state)\n",
      "  File \"C:\\Users\\91836\\Anaconda3\\lib\\site-packages\\sklearn\\ensemble\\_weight_boosting.py\", line 513, in _boost_real\n",
      "    estimator.fit(X, y, sample_weight=sample_weight)\n",
      "  File \"C:\\Users\\91836\\Anaconda3\\lib\\site-packages\\sklearn\\tree\\_classes.py\", line 903, in fit\n",
      "    super().fit(\n",
      "  File \"C:\\Users\\91836\\Anaconda3\\lib\\site-packages\\sklearn\\tree\\_classes.py\", line 298, in fit\n",
      "    sample_weight = _check_sample_weight(sample_weight, X, DOUBLE)\n",
      "  File \"C:\\Users\\91836\\Anaconda3\\lib\\site-packages\\sklearn\\utils\\validation.py\", line 1376, in _check_sample_weight\n",
      "    sample_weight = check_array(\n",
      "  File \"C:\\Users\\91836\\Anaconda3\\lib\\site-packages\\sklearn\\utils\\validation.py\", line 63, in inner_f\n",
      "    return f(*args, **kwargs)\n",
      "  File \"C:\\Users\\91836\\Anaconda3\\lib\\site-packages\\sklearn\\utils\\validation.py\", line 720, in check_array\n",
      "    _assert_all_finite(array,\n",
      "  File \"C:\\Users\\91836\\Anaconda3\\lib\\site-packages\\sklearn\\utils\\validation.py\", line 103, in _assert_all_finite\n",
      "    raise ValueError(\n",
      "ValueError: Input contains NaN, infinity or a value too large for dtype('float64').\n",
      "\n",
      "  warnings.warn(\"Estimator fit failed. The score on this train-test\"\n",
      "C:\\Users\\91836\\Anaconda3\\lib\\site-packages\\sklearn\\ensemble\\_weight_boosting.py:561: RuntimeWarning: overflow encountered in exp\n",
      "  sample_weight *= np.exp(estimator_weight *\n",
      "C:\\Users\\91836\\Anaconda3\\lib\\site-packages\\sklearn\\ensemble\\_weight_boosting.py:155: RuntimeWarning: invalid value encountered in true_divide\n",
      "  sample_weight /= sample_weight_sum\n",
      "C:\\Users\\91836\\Anaconda3\\lib\\site-packages\\sklearn\\model_selection\\_validation.py:615: FitFailedWarning: Estimator fit failed. The score on this train-test partition for these parameters will be set to nan. Details: \n",
      "Traceback (most recent call last):\n",
      "  File \"C:\\Users\\91836\\Anaconda3\\lib\\site-packages\\sklearn\\model_selection\\_validation.py\", line 598, in _fit_and_score\n",
      "    estimator.fit(X_train, y_train, **fit_params)\n",
      "  File \"C:\\Users\\91836\\Anaconda3\\lib\\site-packages\\sklearn\\ensemble\\_weight_boosting.py\", line 443, in fit\n",
      "    return super().fit(X, y, sample_weight)\n",
      "  File \"C:\\Users\\91836\\Anaconda3\\lib\\site-packages\\sklearn\\ensemble\\_weight_boosting.py\", line 130, in fit\n",
      "    sample_weight, estimator_weight, estimator_error = self._boost(\n",
      "  File \"C:\\Users\\91836\\Anaconda3\\lib\\site-packages\\sklearn\\ensemble\\_weight_boosting.py\", line 503, in _boost\n",
      "    return self._boost_real(iboost, X, y, sample_weight, random_state)\n",
      "  File \"C:\\Users\\91836\\Anaconda3\\lib\\site-packages\\sklearn\\ensemble\\_weight_boosting.py\", line 513, in _boost_real\n",
      "    estimator.fit(X, y, sample_weight=sample_weight)\n",
      "  File \"C:\\Users\\91836\\Anaconda3\\lib\\site-packages\\sklearn\\tree\\_classes.py\", line 903, in fit\n",
      "    super().fit(\n",
      "  File \"C:\\Users\\91836\\Anaconda3\\lib\\site-packages\\sklearn\\tree\\_classes.py\", line 298, in fit\n",
      "    sample_weight = _check_sample_weight(sample_weight, X, DOUBLE)\n",
      "  File \"C:\\Users\\91836\\Anaconda3\\lib\\site-packages\\sklearn\\utils\\validation.py\", line 1376, in _check_sample_weight\n",
      "    sample_weight = check_array(\n",
      "  File \"C:\\Users\\91836\\Anaconda3\\lib\\site-packages\\sklearn\\utils\\validation.py\", line 63, in inner_f\n",
      "    return f(*args, **kwargs)\n",
      "  File \"C:\\Users\\91836\\Anaconda3\\lib\\site-packages\\sklearn\\utils\\validation.py\", line 720, in check_array\n",
      "    _assert_all_finite(array,\n",
      "  File \"C:\\Users\\91836\\Anaconda3\\lib\\site-packages\\sklearn\\utils\\validation.py\", line 103, in _assert_all_finite\n",
      "    raise ValueError(\n",
      "ValueError: Input contains NaN, infinity or a value too large for dtype('float64').\n",
      "\n",
      "  warnings.warn(\"Estimator fit failed. The score on this train-test\"\n",
      "C:\\Users\\91836\\Anaconda3\\lib\\site-packages\\sklearn\\ensemble\\_weight_boosting.py:561: RuntimeWarning: overflow encountered in exp\n",
      "  sample_weight *= np.exp(estimator_weight *\n",
      "C:\\Users\\91836\\Anaconda3\\lib\\site-packages\\sklearn\\ensemble\\_weight_boosting.py:155: RuntimeWarning: invalid value encountered in true_divide\n",
      "  sample_weight /= sample_weight_sum\n",
      "C:\\Users\\91836\\Anaconda3\\lib\\site-packages\\sklearn\\model_selection\\_validation.py:615: FitFailedWarning: Estimator fit failed. The score on this train-test partition for these parameters will be set to nan. Details: \n",
      "Traceback (most recent call last):\n",
      "  File \"C:\\Users\\91836\\Anaconda3\\lib\\site-packages\\sklearn\\model_selection\\_validation.py\", line 598, in _fit_and_score\n",
      "    estimator.fit(X_train, y_train, **fit_params)\n",
      "  File \"C:\\Users\\91836\\Anaconda3\\lib\\site-packages\\sklearn\\ensemble\\_weight_boosting.py\", line 443, in fit\n",
      "    return super().fit(X, y, sample_weight)\n",
      "  File \"C:\\Users\\91836\\Anaconda3\\lib\\site-packages\\sklearn\\ensemble\\_weight_boosting.py\", line 130, in fit\n",
      "    sample_weight, estimator_weight, estimator_error = self._boost(\n",
      "  File \"C:\\Users\\91836\\Anaconda3\\lib\\site-packages\\sklearn\\ensemble\\_weight_boosting.py\", line 503, in _boost\n",
      "    return self._boost_real(iboost, X, y, sample_weight, random_state)\n",
      "  File \"C:\\Users\\91836\\Anaconda3\\lib\\site-packages\\sklearn\\ensemble\\_weight_boosting.py\", line 513, in _boost_real\n",
      "    estimator.fit(X, y, sample_weight=sample_weight)\n",
      "  File \"C:\\Users\\91836\\Anaconda3\\lib\\site-packages\\sklearn\\tree\\_classes.py\", line 903, in fit\n",
      "    super().fit(\n",
      "  File \"C:\\Users\\91836\\Anaconda3\\lib\\site-packages\\sklearn\\tree\\_classes.py\", line 298, in fit\n",
      "    sample_weight = _check_sample_weight(sample_weight, X, DOUBLE)\n",
      "  File \"C:\\Users\\91836\\Anaconda3\\lib\\site-packages\\sklearn\\utils\\validation.py\", line 1376, in _check_sample_weight\n",
      "    sample_weight = check_array(\n",
      "  File \"C:\\Users\\91836\\Anaconda3\\lib\\site-packages\\sklearn\\utils\\validation.py\", line 63, in inner_f\n",
      "    return f(*args, **kwargs)\n",
      "  File \"C:\\Users\\91836\\Anaconda3\\lib\\site-packages\\sklearn\\utils\\validation.py\", line 720, in check_array\n",
      "    _assert_all_finite(array,\n",
      "  File \"C:\\Users\\91836\\Anaconda3\\lib\\site-packages\\sklearn\\utils\\validation.py\", line 103, in _assert_all_finite\n",
      "    raise ValueError(\n",
      "ValueError: Input contains NaN, infinity or a value too large for dtype('float64').\n",
      "\n",
      "  warnings.warn(\"Estimator fit failed. The score on this train-test\"\n",
      "C:\\Users\\91836\\Anaconda3\\lib\\site-packages\\sklearn\\ensemble\\_weight_boosting.py:561: RuntimeWarning: overflow encountered in exp\n",
      "  sample_weight *= np.exp(estimator_weight *\n",
      "C:\\Users\\91836\\Anaconda3\\lib\\site-packages\\sklearn\\ensemble\\_weight_boosting.py:155: RuntimeWarning: invalid value encountered in true_divide\n",
      "  sample_weight /= sample_weight_sum\n",
      "C:\\Users\\91836\\Anaconda3\\lib\\site-packages\\sklearn\\model_selection\\_validation.py:615: FitFailedWarning: Estimator fit failed. The score on this train-test partition for these parameters will be set to nan. Details: \n",
      "Traceback (most recent call last):\n",
      "  File \"C:\\Users\\91836\\Anaconda3\\lib\\site-packages\\sklearn\\model_selection\\_validation.py\", line 598, in _fit_and_score\n",
      "    estimator.fit(X_train, y_train, **fit_params)\n",
      "  File \"C:\\Users\\91836\\Anaconda3\\lib\\site-packages\\sklearn\\ensemble\\_weight_boosting.py\", line 443, in fit\n",
      "    return super().fit(X, y, sample_weight)\n",
      "  File \"C:\\Users\\91836\\Anaconda3\\lib\\site-packages\\sklearn\\ensemble\\_weight_boosting.py\", line 130, in fit\n",
      "    sample_weight, estimator_weight, estimator_error = self._boost(\n",
      "  File \"C:\\Users\\91836\\Anaconda3\\lib\\site-packages\\sklearn\\ensemble\\_weight_boosting.py\", line 503, in _boost\n",
      "    return self._boost_real(iboost, X, y, sample_weight, random_state)\n",
      "  File \"C:\\Users\\91836\\Anaconda3\\lib\\site-packages\\sklearn\\ensemble\\_weight_boosting.py\", line 513, in _boost_real\n",
      "    estimator.fit(X, y, sample_weight=sample_weight)\n",
      "  File \"C:\\Users\\91836\\Anaconda3\\lib\\site-packages\\sklearn\\tree\\_classes.py\", line 903, in fit\n",
      "    super().fit(\n",
      "  File \"C:\\Users\\91836\\Anaconda3\\lib\\site-packages\\sklearn\\tree\\_classes.py\", line 298, in fit\n",
      "    sample_weight = _check_sample_weight(sample_weight, X, DOUBLE)\n",
      "  File \"C:\\Users\\91836\\Anaconda3\\lib\\site-packages\\sklearn\\utils\\validation.py\", line 1376, in _check_sample_weight\n",
      "    sample_weight = check_array(\n",
      "  File \"C:\\Users\\91836\\Anaconda3\\lib\\site-packages\\sklearn\\utils\\validation.py\", line 63, in inner_f\n",
      "    return f(*args, **kwargs)\n",
      "  File \"C:\\Users\\91836\\Anaconda3\\lib\\site-packages\\sklearn\\utils\\validation.py\", line 720, in check_array\n",
      "    _assert_all_finite(array,\n",
      "  File \"C:\\Users\\91836\\Anaconda3\\lib\\site-packages\\sklearn\\utils\\validation.py\", line 103, in _assert_all_finite\n",
      "    raise ValueError(\n",
      "ValueError: Input contains NaN, infinity or a value too large for dtype('float64').\n",
      "\n",
      "  warnings.warn(\"Estimator fit failed. The score on this train-test\"\n"
     ]
    },
    {
     "name": "stderr",
     "output_type": "stream",
     "text": [
      "C:\\Users\\91836\\Anaconda3\\lib\\site-packages\\sklearn\\ensemble\\_weight_boosting.py:561: RuntimeWarning: overflow encountered in exp\n",
      "  sample_weight *= np.exp(estimator_weight *\n",
      "C:\\Users\\91836\\Anaconda3\\lib\\site-packages\\sklearn\\ensemble\\_weight_boosting.py:155: RuntimeWarning: invalid value encountered in true_divide\n",
      "  sample_weight /= sample_weight_sum\n",
      "C:\\Users\\91836\\Anaconda3\\lib\\site-packages\\sklearn\\model_selection\\_validation.py:615: FitFailedWarning: Estimator fit failed. The score on this train-test partition for these parameters will be set to nan. Details: \n",
      "Traceback (most recent call last):\n",
      "  File \"C:\\Users\\91836\\Anaconda3\\lib\\site-packages\\sklearn\\model_selection\\_validation.py\", line 598, in _fit_and_score\n",
      "    estimator.fit(X_train, y_train, **fit_params)\n",
      "  File \"C:\\Users\\91836\\Anaconda3\\lib\\site-packages\\sklearn\\ensemble\\_weight_boosting.py\", line 443, in fit\n",
      "    return super().fit(X, y, sample_weight)\n",
      "  File \"C:\\Users\\91836\\Anaconda3\\lib\\site-packages\\sklearn\\ensemble\\_weight_boosting.py\", line 130, in fit\n",
      "    sample_weight, estimator_weight, estimator_error = self._boost(\n",
      "  File \"C:\\Users\\91836\\Anaconda3\\lib\\site-packages\\sklearn\\ensemble\\_weight_boosting.py\", line 503, in _boost\n",
      "    return self._boost_real(iboost, X, y, sample_weight, random_state)\n",
      "  File \"C:\\Users\\91836\\Anaconda3\\lib\\site-packages\\sklearn\\ensemble\\_weight_boosting.py\", line 513, in _boost_real\n",
      "    estimator.fit(X, y, sample_weight=sample_weight)\n",
      "  File \"C:\\Users\\91836\\Anaconda3\\lib\\site-packages\\sklearn\\tree\\_classes.py\", line 903, in fit\n",
      "    super().fit(\n",
      "  File \"C:\\Users\\91836\\Anaconda3\\lib\\site-packages\\sklearn\\tree\\_classes.py\", line 298, in fit\n",
      "    sample_weight = _check_sample_weight(sample_weight, X, DOUBLE)\n",
      "  File \"C:\\Users\\91836\\Anaconda3\\lib\\site-packages\\sklearn\\utils\\validation.py\", line 1376, in _check_sample_weight\n",
      "    sample_weight = check_array(\n",
      "  File \"C:\\Users\\91836\\Anaconda3\\lib\\site-packages\\sklearn\\utils\\validation.py\", line 63, in inner_f\n",
      "    return f(*args, **kwargs)\n",
      "  File \"C:\\Users\\91836\\Anaconda3\\lib\\site-packages\\sklearn\\utils\\validation.py\", line 720, in check_array\n",
      "    _assert_all_finite(array,\n",
      "  File \"C:\\Users\\91836\\Anaconda3\\lib\\site-packages\\sklearn\\utils\\validation.py\", line 103, in _assert_all_finite\n",
      "    raise ValueError(\n",
      "ValueError: Input contains NaN, infinity or a value too large for dtype('float64').\n",
      "\n",
      "  warnings.warn(\"Estimator fit failed. The score on this train-test\"\n",
      "C:\\Users\\91836\\Anaconda3\\lib\\site-packages\\sklearn\\ensemble\\_weight_boosting.py:561: RuntimeWarning: overflow encountered in exp\n",
      "  sample_weight *= np.exp(estimator_weight *\n",
      "C:\\Users\\91836\\Anaconda3\\lib\\site-packages\\sklearn\\ensemble\\_weight_boosting.py:155: RuntimeWarning: invalid value encountered in true_divide\n",
      "  sample_weight /= sample_weight_sum\n",
      "C:\\Users\\91836\\Anaconda3\\lib\\site-packages\\sklearn\\model_selection\\_validation.py:615: FitFailedWarning: Estimator fit failed. The score on this train-test partition for these parameters will be set to nan. Details: \n",
      "Traceback (most recent call last):\n",
      "  File \"C:\\Users\\91836\\Anaconda3\\lib\\site-packages\\sklearn\\model_selection\\_validation.py\", line 598, in _fit_and_score\n",
      "    estimator.fit(X_train, y_train, **fit_params)\n",
      "  File \"C:\\Users\\91836\\Anaconda3\\lib\\site-packages\\sklearn\\ensemble\\_weight_boosting.py\", line 443, in fit\n",
      "    return super().fit(X, y, sample_weight)\n",
      "  File \"C:\\Users\\91836\\Anaconda3\\lib\\site-packages\\sklearn\\ensemble\\_weight_boosting.py\", line 130, in fit\n",
      "    sample_weight, estimator_weight, estimator_error = self._boost(\n",
      "  File \"C:\\Users\\91836\\Anaconda3\\lib\\site-packages\\sklearn\\ensemble\\_weight_boosting.py\", line 503, in _boost\n",
      "    return self._boost_real(iboost, X, y, sample_weight, random_state)\n",
      "  File \"C:\\Users\\91836\\Anaconda3\\lib\\site-packages\\sklearn\\ensemble\\_weight_boosting.py\", line 513, in _boost_real\n",
      "    estimator.fit(X, y, sample_weight=sample_weight)\n",
      "  File \"C:\\Users\\91836\\Anaconda3\\lib\\site-packages\\sklearn\\tree\\_classes.py\", line 903, in fit\n",
      "    super().fit(\n",
      "  File \"C:\\Users\\91836\\Anaconda3\\lib\\site-packages\\sklearn\\tree\\_classes.py\", line 298, in fit\n",
      "    sample_weight = _check_sample_weight(sample_weight, X, DOUBLE)\n",
      "  File \"C:\\Users\\91836\\Anaconda3\\lib\\site-packages\\sklearn\\utils\\validation.py\", line 1376, in _check_sample_weight\n",
      "    sample_weight = check_array(\n",
      "  File \"C:\\Users\\91836\\Anaconda3\\lib\\site-packages\\sklearn\\utils\\validation.py\", line 63, in inner_f\n",
      "    return f(*args, **kwargs)\n",
      "  File \"C:\\Users\\91836\\Anaconda3\\lib\\site-packages\\sklearn\\utils\\validation.py\", line 720, in check_array\n",
      "    _assert_all_finite(array,\n",
      "  File \"C:\\Users\\91836\\Anaconda3\\lib\\site-packages\\sklearn\\utils\\validation.py\", line 103, in _assert_all_finite\n",
      "    raise ValueError(\n",
      "ValueError: Input contains NaN, infinity or a value too large for dtype('float64').\n",
      "\n",
      "  warnings.warn(\"Estimator fit failed. The score on this train-test\"\n",
      "C:\\Users\\91836\\Anaconda3\\lib\\site-packages\\sklearn\\ensemble\\_weight_boosting.py:561: RuntimeWarning: overflow encountered in exp\n",
      "  sample_weight *= np.exp(estimator_weight *\n",
      "C:\\Users\\91836\\Anaconda3\\lib\\site-packages\\sklearn\\ensemble\\_weight_boosting.py:155: RuntimeWarning: invalid value encountered in true_divide\n",
      "  sample_weight /= sample_weight_sum\n",
      "C:\\Users\\91836\\Anaconda3\\lib\\site-packages\\sklearn\\model_selection\\_validation.py:615: FitFailedWarning: Estimator fit failed. The score on this train-test partition for these parameters will be set to nan. Details: \n",
      "Traceback (most recent call last):\n",
      "  File \"C:\\Users\\91836\\Anaconda3\\lib\\site-packages\\sklearn\\model_selection\\_validation.py\", line 598, in _fit_and_score\n",
      "    estimator.fit(X_train, y_train, **fit_params)\n",
      "  File \"C:\\Users\\91836\\Anaconda3\\lib\\site-packages\\sklearn\\ensemble\\_weight_boosting.py\", line 443, in fit\n",
      "    return super().fit(X, y, sample_weight)\n",
      "  File \"C:\\Users\\91836\\Anaconda3\\lib\\site-packages\\sklearn\\ensemble\\_weight_boosting.py\", line 130, in fit\n",
      "    sample_weight, estimator_weight, estimator_error = self._boost(\n",
      "  File \"C:\\Users\\91836\\Anaconda3\\lib\\site-packages\\sklearn\\ensemble\\_weight_boosting.py\", line 503, in _boost\n",
      "    return self._boost_real(iboost, X, y, sample_weight, random_state)\n",
      "  File \"C:\\Users\\91836\\Anaconda3\\lib\\site-packages\\sklearn\\ensemble\\_weight_boosting.py\", line 513, in _boost_real\n",
      "    estimator.fit(X, y, sample_weight=sample_weight)\n",
      "  File \"C:\\Users\\91836\\Anaconda3\\lib\\site-packages\\sklearn\\tree\\_classes.py\", line 903, in fit\n",
      "    super().fit(\n",
      "  File \"C:\\Users\\91836\\Anaconda3\\lib\\site-packages\\sklearn\\tree\\_classes.py\", line 298, in fit\n",
      "    sample_weight = _check_sample_weight(sample_weight, X, DOUBLE)\n",
      "  File \"C:\\Users\\91836\\Anaconda3\\lib\\site-packages\\sklearn\\utils\\validation.py\", line 1376, in _check_sample_weight\n",
      "    sample_weight = check_array(\n",
      "  File \"C:\\Users\\91836\\Anaconda3\\lib\\site-packages\\sklearn\\utils\\validation.py\", line 63, in inner_f\n",
      "    return f(*args, **kwargs)\n",
      "  File \"C:\\Users\\91836\\Anaconda3\\lib\\site-packages\\sklearn\\utils\\validation.py\", line 720, in check_array\n",
      "    _assert_all_finite(array,\n",
      "  File \"C:\\Users\\91836\\Anaconda3\\lib\\site-packages\\sklearn\\utils\\validation.py\", line 103, in _assert_all_finite\n",
      "    raise ValueError(\n",
      "ValueError: Input contains NaN, infinity or a value too large for dtype('float64').\n",
      "\n",
      "  warnings.warn(\"Estimator fit failed. The score on this train-test\"\n",
      "C:\\Users\\91836\\Anaconda3\\lib\\site-packages\\sklearn\\ensemble\\_weight_boosting.py:561: RuntimeWarning: overflow encountered in exp\n",
      "  sample_weight *= np.exp(estimator_weight *\n",
      "C:\\Users\\91836\\Anaconda3\\lib\\site-packages\\sklearn\\ensemble\\_weight_boosting.py:155: RuntimeWarning: invalid value encountered in true_divide\n",
      "  sample_weight /= sample_weight_sum\n",
      "C:\\Users\\91836\\Anaconda3\\lib\\site-packages\\sklearn\\model_selection\\_validation.py:615: FitFailedWarning: Estimator fit failed. The score on this train-test partition for these parameters will be set to nan. Details: \n",
      "Traceback (most recent call last):\n",
      "  File \"C:\\Users\\91836\\Anaconda3\\lib\\site-packages\\sklearn\\model_selection\\_validation.py\", line 598, in _fit_and_score\n",
      "    estimator.fit(X_train, y_train, **fit_params)\n",
      "  File \"C:\\Users\\91836\\Anaconda3\\lib\\site-packages\\sklearn\\ensemble\\_weight_boosting.py\", line 443, in fit\n",
      "    return super().fit(X, y, sample_weight)\n",
      "  File \"C:\\Users\\91836\\Anaconda3\\lib\\site-packages\\sklearn\\ensemble\\_weight_boosting.py\", line 130, in fit\n",
      "    sample_weight, estimator_weight, estimator_error = self._boost(\n",
      "  File \"C:\\Users\\91836\\Anaconda3\\lib\\site-packages\\sklearn\\ensemble\\_weight_boosting.py\", line 503, in _boost\n",
      "    return self._boost_real(iboost, X, y, sample_weight, random_state)\n",
      "  File \"C:\\Users\\91836\\Anaconda3\\lib\\site-packages\\sklearn\\ensemble\\_weight_boosting.py\", line 513, in _boost_real\n",
      "    estimator.fit(X, y, sample_weight=sample_weight)\n",
      "  File \"C:\\Users\\91836\\Anaconda3\\lib\\site-packages\\sklearn\\tree\\_classes.py\", line 903, in fit\n",
      "    super().fit(\n",
      "  File \"C:\\Users\\91836\\Anaconda3\\lib\\site-packages\\sklearn\\tree\\_classes.py\", line 298, in fit\n",
      "    sample_weight = _check_sample_weight(sample_weight, X, DOUBLE)\n",
      "  File \"C:\\Users\\91836\\Anaconda3\\lib\\site-packages\\sklearn\\utils\\validation.py\", line 1376, in _check_sample_weight\n",
      "    sample_weight = check_array(\n",
      "  File \"C:\\Users\\91836\\Anaconda3\\lib\\site-packages\\sklearn\\utils\\validation.py\", line 63, in inner_f\n",
      "    return f(*args, **kwargs)\n",
      "  File \"C:\\Users\\91836\\Anaconda3\\lib\\site-packages\\sklearn\\utils\\validation.py\", line 720, in check_array\n",
      "    _assert_all_finite(array,\n",
      "  File \"C:\\Users\\91836\\Anaconda3\\lib\\site-packages\\sklearn\\utils\\validation.py\", line 103, in _assert_all_finite\n",
      "    raise ValueError(\n",
      "ValueError: Input contains NaN, infinity or a value too large for dtype('float64').\n",
      "\n",
      "  warnings.warn(\"Estimator fit failed. The score on this train-test\"\n"
     ]
    },
    {
     "name": "stderr",
     "output_type": "stream",
     "text": [
      "C:\\Users\\91836\\Anaconda3\\lib\\site-packages\\sklearn\\ensemble\\_weight_boosting.py:561: RuntimeWarning: overflow encountered in exp\n",
      "  sample_weight *= np.exp(estimator_weight *\n",
      "C:\\Users\\91836\\Anaconda3\\lib\\site-packages\\sklearn\\ensemble\\_weight_boosting.py:155: RuntimeWarning: invalid value encountered in true_divide\n",
      "  sample_weight /= sample_weight_sum\n",
      "C:\\Users\\91836\\Anaconda3\\lib\\site-packages\\sklearn\\model_selection\\_validation.py:615: FitFailedWarning: Estimator fit failed. The score on this train-test partition for these parameters will be set to nan. Details: \n",
      "Traceback (most recent call last):\n",
      "  File \"C:\\Users\\91836\\Anaconda3\\lib\\site-packages\\sklearn\\model_selection\\_validation.py\", line 598, in _fit_and_score\n",
      "    estimator.fit(X_train, y_train, **fit_params)\n",
      "  File \"C:\\Users\\91836\\Anaconda3\\lib\\site-packages\\sklearn\\ensemble\\_weight_boosting.py\", line 443, in fit\n",
      "    return super().fit(X, y, sample_weight)\n",
      "  File \"C:\\Users\\91836\\Anaconda3\\lib\\site-packages\\sklearn\\ensemble\\_weight_boosting.py\", line 130, in fit\n",
      "    sample_weight, estimator_weight, estimator_error = self._boost(\n",
      "  File \"C:\\Users\\91836\\Anaconda3\\lib\\site-packages\\sklearn\\ensemble\\_weight_boosting.py\", line 503, in _boost\n",
      "    return self._boost_real(iboost, X, y, sample_weight, random_state)\n",
      "  File \"C:\\Users\\91836\\Anaconda3\\lib\\site-packages\\sklearn\\ensemble\\_weight_boosting.py\", line 513, in _boost_real\n",
      "    estimator.fit(X, y, sample_weight=sample_weight)\n",
      "  File \"C:\\Users\\91836\\Anaconda3\\lib\\site-packages\\sklearn\\tree\\_classes.py\", line 903, in fit\n",
      "    super().fit(\n",
      "  File \"C:\\Users\\91836\\Anaconda3\\lib\\site-packages\\sklearn\\tree\\_classes.py\", line 298, in fit\n",
      "    sample_weight = _check_sample_weight(sample_weight, X, DOUBLE)\n",
      "  File \"C:\\Users\\91836\\Anaconda3\\lib\\site-packages\\sklearn\\utils\\validation.py\", line 1376, in _check_sample_weight\n",
      "    sample_weight = check_array(\n",
      "  File \"C:\\Users\\91836\\Anaconda3\\lib\\site-packages\\sklearn\\utils\\validation.py\", line 63, in inner_f\n",
      "    return f(*args, **kwargs)\n",
      "  File \"C:\\Users\\91836\\Anaconda3\\lib\\site-packages\\sklearn\\utils\\validation.py\", line 720, in check_array\n",
      "    _assert_all_finite(array,\n",
      "  File \"C:\\Users\\91836\\Anaconda3\\lib\\site-packages\\sklearn\\utils\\validation.py\", line 103, in _assert_all_finite\n",
      "    raise ValueError(\n",
      "ValueError: Input contains NaN, infinity or a value too large for dtype('float64').\n",
      "\n",
      "  warnings.warn(\"Estimator fit failed. The score on this train-test\"\n",
      "C:\\Users\\91836\\Anaconda3\\lib\\site-packages\\sklearn\\ensemble\\_weight_boosting.py:561: RuntimeWarning: overflow encountered in exp\n",
      "  sample_weight *= np.exp(estimator_weight *\n",
      "C:\\Users\\91836\\Anaconda3\\lib\\site-packages\\sklearn\\ensemble\\_weight_boosting.py:155: RuntimeWarning: invalid value encountered in true_divide\n",
      "  sample_weight /= sample_weight_sum\n",
      "C:\\Users\\91836\\Anaconda3\\lib\\site-packages\\sklearn\\model_selection\\_validation.py:615: FitFailedWarning: Estimator fit failed. The score on this train-test partition for these parameters will be set to nan. Details: \n",
      "Traceback (most recent call last):\n",
      "  File \"C:\\Users\\91836\\Anaconda3\\lib\\site-packages\\sklearn\\model_selection\\_validation.py\", line 598, in _fit_and_score\n",
      "    estimator.fit(X_train, y_train, **fit_params)\n",
      "  File \"C:\\Users\\91836\\Anaconda3\\lib\\site-packages\\sklearn\\ensemble\\_weight_boosting.py\", line 443, in fit\n",
      "    return super().fit(X, y, sample_weight)\n",
      "  File \"C:\\Users\\91836\\Anaconda3\\lib\\site-packages\\sklearn\\ensemble\\_weight_boosting.py\", line 130, in fit\n",
      "    sample_weight, estimator_weight, estimator_error = self._boost(\n",
      "  File \"C:\\Users\\91836\\Anaconda3\\lib\\site-packages\\sklearn\\ensemble\\_weight_boosting.py\", line 503, in _boost\n",
      "    return self._boost_real(iboost, X, y, sample_weight, random_state)\n",
      "  File \"C:\\Users\\91836\\Anaconda3\\lib\\site-packages\\sklearn\\ensemble\\_weight_boosting.py\", line 513, in _boost_real\n",
      "    estimator.fit(X, y, sample_weight=sample_weight)\n",
      "  File \"C:\\Users\\91836\\Anaconda3\\lib\\site-packages\\sklearn\\tree\\_classes.py\", line 903, in fit\n",
      "    super().fit(\n",
      "  File \"C:\\Users\\91836\\Anaconda3\\lib\\site-packages\\sklearn\\tree\\_classes.py\", line 298, in fit\n",
      "    sample_weight = _check_sample_weight(sample_weight, X, DOUBLE)\n",
      "  File \"C:\\Users\\91836\\Anaconda3\\lib\\site-packages\\sklearn\\utils\\validation.py\", line 1376, in _check_sample_weight\n",
      "    sample_weight = check_array(\n",
      "  File \"C:\\Users\\91836\\Anaconda3\\lib\\site-packages\\sklearn\\utils\\validation.py\", line 63, in inner_f\n",
      "    return f(*args, **kwargs)\n",
      "  File \"C:\\Users\\91836\\Anaconda3\\lib\\site-packages\\sklearn\\utils\\validation.py\", line 720, in check_array\n",
      "    _assert_all_finite(array,\n",
      "  File \"C:\\Users\\91836\\Anaconda3\\lib\\site-packages\\sklearn\\utils\\validation.py\", line 103, in _assert_all_finite\n",
      "    raise ValueError(\n",
      "ValueError: Input contains NaN, infinity or a value too large for dtype('float64').\n",
      "\n",
      "  warnings.warn(\"Estimator fit failed. The score on this train-test\"\n",
      "C:\\Users\\91836\\Anaconda3\\lib\\site-packages\\sklearn\\ensemble\\_weight_boosting.py:561: RuntimeWarning: overflow encountered in exp\n",
      "  sample_weight *= np.exp(estimator_weight *\n",
      "C:\\Users\\91836\\Anaconda3\\lib\\site-packages\\sklearn\\ensemble\\_weight_boosting.py:155: RuntimeWarning: invalid value encountered in true_divide\n",
      "  sample_weight /= sample_weight_sum\n",
      "C:\\Users\\91836\\Anaconda3\\lib\\site-packages\\sklearn\\model_selection\\_validation.py:615: FitFailedWarning: Estimator fit failed. The score on this train-test partition for these parameters will be set to nan. Details: \n",
      "Traceback (most recent call last):\n",
      "  File \"C:\\Users\\91836\\Anaconda3\\lib\\site-packages\\sklearn\\model_selection\\_validation.py\", line 598, in _fit_and_score\n",
      "    estimator.fit(X_train, y_train, **fit_params)\n",
      "  File \"C:\\Users\\91836\\Anaconda3\\lib\\site-packages\\sklearn\\ensemble\\_weight_boosting.py\", line 443, in fit\n",
      "    return super().fit(X, y, sample_weight)\n",
      "  File \"C:\\Users\\91836\\Anaconda3\\lib\\site-packages\\sklearn\\ensemble\\_weight_boosting.py\", line 130, in fit\n",
      "    sample_weight, estimator_weight, estimator_error = self._boost(\n",
      "  File \"C:\\Users\\91836\\Anaconda3\\lib\\site-packages\\sklearn\\ensemble\\_weight_boosting.py\", line 503, in _boost\n",
      "    return self._boost_real(iboost, X, y, sample_weight, random_state)\n",
      "  File \"C:\\Users\\91836\\Anaconda3\\lib\\site-packages\\sklearn\\ensemble\\_weight_boosting.py\", line 513, in _boost_real\n",
      "    estimator.fit(X, y, sample_weight=sample_weight)\n",
      "  File \"C:\\Users\\91836\\Anaconda3\\lib\\site-packages\\sklearn\\tree\\_classes.py\", line 903, in fit\n",
      "    super().fit(\n",
      "  File \"C:\\Users\\91836\\Anaconda3\\lib\\site-packages\\sklearn\\tree\\_classes.py\", line 298, in fit\n",
      "    sample_weight = _check_sample_weight(sample_weight, X, DOUBLE)\n",
      "  File \"C:\\Users\\91836\\Anaconda3\\lib\\site-packages\\sklearn\\utils\\validation.py\", line 1376, in _check_sample_weight\n",
      "    sample_weight = check_array(\n",
      "  File \"C:\\Users\\91836\\Anaconda3\\lib\\site-packages\\sklearn\\utils\\validation.py\", line 63, in inner_f\n",
      "    return f(*args, **kwargs)\n",
      "  File \"C:\\Users\\91836\\Anaconda3\\lib\\site-packages\\sklearn\\utils\\validation.py\", line 720, in check_array\n",
      "    _assert_all_finite(array,\n",
      "  File \"C:\\Users\\91836\\Anaconda3\\lib\\site-packages\\sklearn\\utils\\validation.py\", line 103, in _assert_all_finite\n",
      "    raise ValueError(\n",
      "ValueError: Input contains NaN, infinity or a value too large for dtype('float64').\n",
      "\n",
      "  warnings.warn(\"Estimator fit failed. The score on this train-test\"\n",
      "C:\\Users\\91836\\Anaconda3\\lib\\site-packages\\sklearn\\model_selection\\_search.py:922: UserWarning: One or more of the test scores are non-finite: [0.79548687 0.79842881 0.80192035 0.83787022 0.84410975 0.84698706\n",
      " 0.8507693  0.85128665 0.85345283 0.19959916 0.19959916 0.19959916\n",
      "        nan        nan        nan]\n",
      "  warnings.warn(\n"
     ]
    },
    {
     "data": {
      "text/plain": [
       "RandomizedSearchCV(estimator=AdaBoostClassifier(), n_iter=15,\n",
       "                   param_distributions={'learning_rate': [0.01, 0.1, 1, 10,\n",
       "                                                          100],\n",
       "                                        'n_estimators': [100, 200, 500]},\n",
       "                   random_state=0)"
      ]
     },
     "execution_count": 17,
     "metadata": {},
     "output_type": "execute_result"
    }
   ],
   "source": [
    "rv.fit(X_train, y_train)"
   ]
  },
  {
   "cell_type": "code",
   "execution_count": null,
   "id": "bcdbc03b",
   "metadata": {},
   "outputs": [],
   "source": []
  },
  {
   "cell_type": "code",
   "execution_count": 18,
   "id": "f24470ee",
   "metadata": {},
   "outputs": [
    {
     "data": {
      "text/plain": [
       "{'n_estimators': 500, 'learning_rate': 1}"
      ]
     },
     "execution_count": 18,
     "metadata": {},
     "output_type": "execute_result"
    }
   ],
   "source": [
    "rv.best_params_"
   ]
  },
  {
   "cell_type": "code",
   "execution_count": 19,
   "id": "93e62ec0",
   "metadata": {},
   "outputs": [
    {
     "data": {
      "text/plain": [
       "0.8534528271292116"
      ]
     },
     "execution_count": 19,
     "metadata": {},
     "output_type": "execute_result"
    }
   ],
   "source": [
    "rv.best_score_"
   ]
  },
  {
   "cell_type": "code",
   "execution_count": 20,
   "id": "a09ef5a1",
   "metadata": {},
   "outputs": [
    {
     "name": "stdout",
     "output_type": "stream",
     "text": [
      "[[7635  561]\n",
      " [ 946 1604]] \n",
      "\n",
      "              precision    recall  f1-score   support\n",
      "\n",
      "       <=50K       0.89      0.93      0.91      8196\n",
      "        >50K       0.74      0.63      0.68      2550\n",
      "\n",
      "    accuracy                           0.86     10746\n",
      "   macro avg       0.82      0.78      0.80     10746\n",
      "weighted avg       0.85      0.86      0.86     10746\n",
      " \n",
      "\n",
      "0.8597617718220734\n"
     ]
    }
   ],
   "source": [
    "from sklearn.metrics import classification_report, confusion_matrix, accuracy_score\n",
    "pred_ada = rv.predict(X_test)\n",
    "print(confusion_matrix(y_test, pred_ada), \"\\n\")\n",
    "print(classification_report(y_test, pred_ada), \"\\n\")\n",
    "print(accuracy_score(y_test, pred_ada))"
   ]
  },
  {
   "cell_type": "code",
   "execution_count": 21,
   "id": "0838f0f7",
   "metadata": {},
   "outputs": [],
   "source": [
    "from joblib import load, dump"
   ]
  },
  {
   "cell_type": "code",
   "execution_count": 22,
   "id": "b619daa7",
   "metadata": {},
   "outputs": [
    {
     "data": {
      "text/plain": [
       "['AdaBoostModel.joblib']"
      ]
     },
     "execution_count": 22,
     "metadata": {},
     "output_type": "execute_result"
    }
   ],
   "source": [
    "dump(rv, 'AdaBoostModel.joblib')"
   ]
  },
  {
   "cell_type": "code",
   "execution_count": 46,
   "id": "71affd5e",
   "metadata": {},
   "outputs": [],
   "source": [
    "from sklearn.metrics import roc_auc_score, roc_curve, plot_roc_curve, auc"
   ]
  },
  {
   "cell_type": "code",
   "execution_count": 25,
   "id": "6317eb6e",
   "metadata": {},
   "outputs": [
    {
     "data": {
      "text/plain": [
       "<sklearn.metrics._plot.roc_curve.RocCurveDisplay at 0x1cd742dc490>"
      ]
     },
     "execution_count": 25,
     "metadata": {},
     "output_type": "execute_result"
    },
    {
     "data": {
      "image/png": "[encoded data removed]",
      "text/plain": [
       "<Figure size 432x288 with 1 Axes>"
      ]
     },
     "metadata": {},
     "output_type": "display_data"
    }
   ],
   "source": [
    "plot_roc_curve(rv, X_val, y_val)"
   ]
  },
  {
   "cell_type": "code",
   "execution_count": 29,
   "id": "c5f4f136",
   "metadata": {},
   "outputs": [],
   "source": [
    "y_true = np.where(y_test==\">50K\", 1, 0)\n",
    "y_score = np.where(pred_ada==\">50K\", 1, 0)"
   ]
  },
  {
   "cell_type": "code",
   "execution_count": 30,
   "id": "d7e7edbb",
   "metadata": {},
   "outputs": [
    {
     "data": {
      "text/plain": [
       "0.7802857922085378"
      ]
     },
     "execution_count": 30,
     "metadata": {},
     "output_type": "execute_result"
    }
   ],
   "source": [
    "roc_auc_score(y_true, y_score)"
   ]
  },
  {
   "cell_type": "code",
   "execution_count": 55,
   "id": "3def0e94",
   "metadata": {},
   "outputs": [
    {
     "data": {
      "text/plain": [
       "0.7802857922085378"
      ]
     },
     "execution_count": 55,
     "metadata": {},
     "output_type": "execute_result"
    }
   ],
   "source": [
    "roc_auc_score(y_true, y_score, average='weighted')"
   ]
  },
  {
   "cell_type": "code",
   "execution_count": 31,
   "id": "b266cc46",
   "metadata": {},
   "outputs": [
    {
     "data": {
      "text/plain": [
       "<sklearn.metrics._plot.roc_curve.RocCurveDisplay at 0x1cd78224c40>"
      ]
     },
     "execution_count": 31,
     "metadata": {},
     "output_type": "execute_result"
    },
    {
     "data": {
      "image/png": "[encoded data removed]",
      "text/plain": [
       "<Figure size 432x288 with 1 Axes>"
      ]
     },
     "metadata": {},
     "output_type": "display_data"
    }
   ],
   "source": [
    "plot_roc_curve(rv, X_test, y_test)"
   ]
  },
  {
   "cell_type": "code",
   "execution_count": 49,
   "id": "df3623a8",
   "metadata": {},
   "outputs": [],
   "source": [
    "n_classes = 2\n",
    "\n",
    "fpr = dict()\n",
    "tpr = dict()\n",
    "roc_auc = dict()\n",
    "for i in range(n_classes):\n",
    "    fpr[i], tpr[i], _ = roc_curve(y_true==i, y_score==i)\n",
    "    roc_auc[i] = auc(fpr[i], tpr[i])\n",
    "\n",
    "# Compute micro-average ROC curve and ROC area\n",
    "fpr[\"micro\"], tpr[\"micro\"], _ = roc_curve(y_true.ravel(), y_score.ravel())\n",
    "roc_auc[\"micro\"] = auc(fpr[\"micro\"], tpr[\"micro\"])"
   ]
  },
  {
   "cell_type": "code",
   "execution_count": 51,
   "id": "2a5e455b",
   "metadata": {},
   "outputs": [
    {
     "data": {
      "text/plain": [
       "{0: array([0.        , 0.37098039, 1.        ]),\n",
       " 1: array([0.        , 0.06844802, 1.        ]),\n",
       " 'micro': array([0.        , 0.06844802, 1.        ])}"
      ]
     },
     "execution_count": 51,
     "metadata": {},
     "output_type": "execute_result"
    }
   ],
   "source": [
    "fpr"
   ]
  },
  {
   "cell_type": "code",
   "execution_count": 53,
   "id": "45df7b23",
   "metadata": {},
   "outputs": [
    {
     "data": {
      "image/png": "[encoded data removed]",
      "text/plain": [
       "<Figure size 432x288 with 1 Axes>"
      ]
     },
     "metadata": {},
     "output_type": "display_data"
    }
   ],
   "source": [
    "plt.figure()\n",
    "lw = 2\n",
    "plt.plot(fpr[1], tpr[1], color='darkorange',\n",
    "         lw=lw, label='ROC curve (area = %0.2f)' % roc_auc[1])\n",
    "plt.plot([0, 1], [0, 1], color='navy', lw=lw, linestyle='--')\n",
    "plt.xlim([0.0, 1.0])\n",
    "plt.ylim([0.0, 1.05])\n",
    "plt.xlabel('False Positive Rate')\n",
    "plt.ylabel('True Positive Rate')\n",
    "plt.title('Receiver operating characteristic example')\n",
    "plt.legend(loc=\"lower right\")\n",
    "plt.show()"
   ]
  },
  {
   "cell_type": "code",
   "execution_count": 54,
   "id": "b53fcc6e",
   "metadata": {},
   "outputs": [
    {
     "data": {
      "image/png": "[encoded data removed]",
      "text/plain": [
       "<Figure size 432x288 with 1 Axes>"
      ]
     },
     "metadata": {},
     "output_type": "display_data"
    }
   ],
   "source": [
    "plt.figure()\n",
    "lw = 2\n",
    "plt.plot(fpr[0], tpr[0], color='darkorange',\n",
    "         lw=lw, label='ROC curve (area = %0.2f)' % roc_auc[0])\n",
    "plt.plot([0, 1], [0, 1], color='navy', lw=lw, linestyle='--')\n",
    "plt.xlim([0.0, 1.0])\n",
    "plt.ylim([0.0, 1.05])\n",
    "plt.xlabel('False Positive Rate')\n",
    "plt.ylabel('True Positive Rate')\n",
    "plt.title('Receiver operating characteristic example')\n",
    "plt.legend(loc=\"lower right\")\n",
    "plt.show()"
   ]
  },
  {
   "cell_type": "code",
   "execution_count": null,
   "id": "a948cd5d",
   "metadata": {},
   "outputs": [],
   "source": []
  }
 ],
 "metadata": {
  "kernelspec": {
   "display_name": "Python 3",
   "language": "python",
   "name": "python3"
  },
  "language_info": {
   "codemirror_mode": {
    "name": "ipython",
    "version": 3
   },
   "file_extension": ".py",
   "mimetype": "text/x-python",
   "name": "python",
   "nbconvert_exporter": "python",
   "pygments_lexer": "ipython3",
   "version": "3.8.3"
  }
 },
 "nbformat": 4,
 "nbformat_minor": 5
}
